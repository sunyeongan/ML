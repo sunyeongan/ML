{
 "cells": [
  {
   "cell_type": "code",
   "execution_count": 1,
   "id": "29a324fb-31db-4548-9d2c-d372da48ba9c",
   "metadata": {},
   "outputs": [],
   "source": [
    "import torch \n",
    "import torchvision\n",
    "import torch.nn as nn\n",
    "from torchvision import datasets, models, transforms\n",
    "import os\n",
    "import numpy as np\n",
    "import matplotlib.pyplot as plt"
   ]
  },
  {
   "cell_type": "code",
   "execution_count": 3,
   "id": "6ca05b61-f799-4c01-8cb5-5ecee3ffdc57",
   "metadata": {},
   "outputs": [
    {
     "name": "stdout",
     "output_type": "stream",
     "text": [
      "cuda:0\n"
     ]
    }
   ],
   "source": [
    "device = torch.device(\"cuda:0\" if torch.cuda.is_available() else \"cpu\")\n",
    "print(device)"
   ]
  },
  {
   "cell_type": "code",
   "execution_count": 4,
   "id": "cdc30861-b546-4798-aa65-d2510820167f",
   "metadata": {},
   "outputs": [],
   "source": [
    "DATA_PATH = \"https://download.pytorch.org/tutorial/hymenoptera_data.zip\""
   ]
  },
  {
   "cell_type": "code",
   "execution_count": 5,
   "id": "b91d2e2d-2d4d-4844-870d-cb7b0b301cb6",
   "metadata": {},
   "outputs": [],
   "source": [
    "import urllib\n",
    "import shutil\n",
    "from zipfile import ZipFile\n",
    "\n",
    "urllib.request.urlretrieve(DATA_PATH, \"hymenoptera_data.zip\")\n",
    "\n",
    "with ZipFile(\"hymenoptera_data.zip\", 'r') as zipObj:\n",
    "    zipObj.extractall()\n",
    "    \n",
    "os.rename(\"hymenoptera_data\",\"data\")\n"
   ]
  },
  {
   "cell_type": "code",
   "execution_count": null,
   "id": "e07a392b-4769-493c-9551-2a35fdbc37f7",
   "metadata": {},
   "outputs": [],
   "source": [
    "data_dir = \"./data\""
   ]
  }
 ],
 "metadata": {
  "kernelspec": {
   "display_name": "Python 3 (ipykernel)",
   "language": "python",
   "name": "python3"
  },
  "language_info": {
   "codemirror_mode": {
    "name": "ipython",
    "version": 3
   },
   "file_extension": ".py",
   "mimetype": "text/x-python",
   "name": "python",
   "nbconvert_exporter": "python",
   "pygments_lexer": "ipython3",
   "version": "3.9.15"
  }
 },
 "nbformat": 4,
 "nbformat_minor": 5
}
