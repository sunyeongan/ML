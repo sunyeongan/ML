{
 "cells": [
  {
   "cell_type": "code",
   "execution_count": 2,
   "metadata": {},
   "outputs": [
    {
     "name": "stdout",
     "output_type": "stream",
     "text": [
      "Note: you may need to restart the kernel to use updated packages.\n"
     ]
    }
   ],
   "source": [
    "pip install wandb -q"
   ]
  },
  {
   "cell_type": "code",
   "execution_count": 3,
   "metadata": {},
   "outputs": [
    {
     "name": "stderr",
     "output_type": "stream",
     "text": [
      "Failed to detect the name of this notebook, you can set it manually with the WANDB_NOTEBOOK_NAME environment variable to enable code saving.\n",
      "\u001b[34m\u001b[1mwandb\u001b[0m: Currently logged in as: \u001b[33masy100\u001b[0m (\u001b[33mhallymseonyeong\u001b[0m). Use \u001b[1m`wandb login --relogin`\u001b[0m to force relogin\n"
     ]
    },
    {
     "data": {
      "application/vnd.jupyter.widget-view+json": {
       "model_id": "9911bd7a418f45dfb46d72cceefdd3d5",
       "version_major": 2,
       "version_minor": 0
      },
      "text/plain": [
       "VBox(children=(Label(value='Waiting for wandb.init()...\\r'), FloatProgress(value=0.016916666666899498, max=1.0…"
      ]
     },
     "metadata": {},
     "output_type": "display_data"
    },
    {
     "data": {
      "text/html": [
       "Tracking run with wandb version 0.13.10"
      ],
      "text/plain": [
       "<IPython.core.display.HTML object>"
      ]
     },
     "metadata": {},
     "output_type": "display_data"
    },
    {
     "data": {
      "text/html": [
       "Run data is saved locally in <code>c:\\Users\\asy10\\ML\\DNN\\basic_torch\\wandb\\run-20230210_165005-isar9fg1</code>"
      ],
      "text/plain": [
       "<IPython.core.display.HTML object>"
      ]
     },
     "metadata": {},
     "output_type": "display_data"
    },
    {
     "data": {
      "text/html": [
       "Syncing run <strong><a href='https://wandb.ai/hallymseonyeong/my-test-project/runs/isar9fg1' target=\"_blank\">crimson-wildflower-2</a></strong> to <a href='https://wandb.ai/hallymseonyeong/my-test-project' target=\"_blank\">Weights & Biases</a> (<a href='https://wandb.me/run' target=\"_blank\">docs</a>)<br/>"
      ],
      "text/plain": [
       "<IPython.core.display.HTML object>"
      ]
     },
     "metadata": {},
     "output_type": "display_data"
    },
    {
     "data": {
      "text/html": [
       " View project at <a href='https://wandb.ai/hallymseonyeong/my-test-project' target=\"_blank\">https://wandb.ai/hallymseonyeong/my-test-project</a>"
      ],
      "text/plain": [
       "<IPython.core.display.HTML object>"
      ]
     },
     "metadata": {},
     "output_type": "display_data"
    },
    {
     "data": {
      "text/html": [
       " View run at <a href='https://wandb.ai/hallymseonyeong/my-test-project/runs/isar9fg1' target=\"_blank\">https://wandb.ai/hallymseonyeong/my-test-project/runs/isar9fg1</a>"
      ],
      "text/plain": [
       "<IPython.core.display.HTML object>"
      ]
     },
     "metadata": {},
     "output_type": "display_data"
    },
    {
     "data": {
      "text/html": [
       "<button onClick=\"this.nextSibling.style.display='block';this.style.display='none';\">Display W&B run</button><iframe src='https://wandb.ai/hallymseonyeong/my-test-project/runs/isar9fg1?jupyter=true' style='border:none;width:100%;height:420px;display:none;'></iframe>"
      ],
      "text/plain": [
       "<wandb.sdk.wandb_run.Run at 0x2b8e3668430>"
      ]
     },
     "execution_count": 3,
     "metadata": {},
     "output_type": "execute_result"
    }
   ],
   "source": [
    "import wandb\n",
    "wandb.init(project=\"\", entity='')"
   ]
  },
  {
   "cell_type": "code",
   "execution_count": 4,
   "metadata": {},
   "outputs": [
    {
     "name": "stdout",
     "output_type": "stream",
     "text": [
      "1.10.0\n"
     ]
    }
   ],
   "source": [
    "import torch \n",
    "import torchvision\n",
    "\n",
    "from torchvision import datasets, models, transforms\n",
    "\n",
    "import torch.nn as nn\n",
    "import torch.optim as optim\n",
    "import os\n",
    "\n",
    "import numpy as np\n",
    "import matplotlib.pyplot as plt\n",
    "\n",
    "print(torch.__version__)"
   ]
  },
  {
   "cell_type": "code",
   "execution_count": 6,
   "metadata": {},
   "outputs": [],
   "source": [
    "data_dir = \"./hymenotera_data\"\n",
    "\n",
    "class ReshapeTransform:\n",
    "    def __init__(self, new_size):\n",
    "        self.new_size = new_size\n",
    "        \n",
    "    def __call__(self, img):\n",
    "        result = torch.reshape(img, self.new_size)\n",
    "        return reuslt \n",
    "    \n",
    "data_transforms = {\n",
    "    'train' : transforms.Compose([\n",
    "        transforms.Resize(224),\n",
    "        transforms.CenterCrop(224),\n",
    "        transforms.ToTensor()\n",
    "        \n",
    "    ]),\n",
    "    'val' : transforms.Compose([\n",
    "        transforms.Resize(224),\n",
    "        transforms.CenterCrop(224),\n",
    "        transforms.ToTensor()\n",
    "        \n",
    "    ]),\n",
    "    \n",
    "}\n",
    "\n",
    "image_datasets = {x: datasets.ImageFolder(os.path.join(data_dir, x),\n",
    "                                          data_transforms[x])\n",
    "                  for x in ['train', 'val']}\n",
    "\n",
    "#load the entire dataset, we are not using minibatches here\n",
    "train_dataset = torch.utils.data.DataLoader(image_datasets['train'], batch_size=len(image_datasets['train']),\n",
    "                                           shuffle=True)\n"
   ]
  },
  {
   "cell_type": "code",
   "execution_count": 7,
   "metadata": {},
   "outputs": [],
   "source": [
    "class MyCNNModel(nn.Module):\n",
    "    def __init__(self):\n",
    "        super(MyCNNModel, self).__init__()\n",
    "        self.layer1 = nn.Sequential(\n",
    "            nn.Conv2d(3, 16, kernel_size=3, stride=2, padding=0),\n",
    "            nn.BatchNorm2d(16),\n",
    "            nn.ReLU(),\n",
    "            nn.MaxPool2d(kernel_size=2, stride=2))\n",
    "        \n",
    "        self.layer2 = nn.Sequential(\n",
    "            nn.Conv2d(16, 32, kernel_size=3, stride=2, padding=0),\n",
    "            nn.BatchNorm2d(32),\n",
    "            nn.ReLU(),\n",
    "            nn.MaxPool2d(kernel_size=2, stride=2))\n",
    "        \n",
    "        self.layer3 = nn.Sequential(\n",
    "            nn.Conv2d(32,64, kernel_size=3, stride=2, padding=0),\n",
    "            nn.BatchNorm2d(64),\n",
    "            nn.ReLU(),\n",
    "            nn.MaxPool2d(kernel_size=2, stride=2))\n",
    "        \n",
    "        self.drop_out = nn.Dropout()\n",
    "        self.fc1 = nn.Linear(3*3*64, 1000)\n",
    "        self.fc2 = nn.Linear(1000, 1)\n",
    "    \n",
    "    def forward(self, x):\n",
    "        out = self.layer1(x)\n",
    "        out = self.layer2(out)\n",
    "        out = self.layer3(out)\n",
    "        \n",
    "        out = out.view(out.size(0), -1)\n",
    "        out = self.drop_out(out)\n",
    "        out = self.fc1(out)\n",
    "        out = self.fc2(out)\n",
    "        \n",
    "        return out \n",
    "        \n",
    "        \n",
    "            \n",
    "        "
   ]
  },
  {
   "cell_type": "code",
   "execution_count": 8,
   "metadata": {},
   "outputs": [],
   "source": [
    "EPOCHS = 100\n",
    "BATCH_SIZE = 64\n",
    "LEARNING_RATE = 0.01\n"
   ]
  },
  {
   "cell_type": "code",
   "execution_count": 9,
   "metadata": {},
   "outputs": [],
   "source": [
    "model = MyCNNModel()\n",
    "\n",
    "device = torch.device(\"cuda:0\" if torch.cuda.is_available() else \"cpu\")\n",
    "model.to(device)\n",
    "\n",
    "criterion = nn.BCEWithLogitsLoss()\n",
    "optimizer = optim.Adam(model.parameters(),  lr = LEARNING_RATE)"
   ]
  },
  {
   "cell_type": "code",
   "execution_count": 10,
   "metadata": {},
   "outputs": [],
   "source": [
    "def binary_acc(y_pred, y_test):\n",
    "    y_pred_tag = torch.round(torch.sigmoid(y_pred))\n",
    "    \n",
    "    correct_results_sum = (y_pred_tag == y_test).sum().float()\n",
    "    acc = correct_results_sum/y_test.shape[0]\n",
    "    acc = torch.round(acc*100)\n",
    "    \n",
    "    return acc"
   ]
  },
  {
   "cell_type": "code",
   "execution_count": 15,
   "metadata": {},
   "outputs": [],
   "source": [
    "EPOCHS = 100\n",
    "BATCH_SIZE = 64\n",
    "LEARNING_RATE = 0.001\n",
    "\n",
    "config = {\"epochs\": EPOCHS, \"batch_size\":BATCH_SIZE, \"learning_rate\":LEARNING_RATE}"
   ]
  },
  {
   "cell_type": "code",
   "execution_count": 16,
   "metadata": {},
   "outputs": [
    {
     "data": {
      "text/html": [
       "Finishing last run (ID:7tbhvb34) before initializing another..."
      ],
      "text/plain": [
       "<IPython.core.display.HTML object>"
      ]
     },
     "metadata": {},
     "output_type": "display_data"
    },
    {
     "data": {
      "text/html": [
       "Waiting for W&B process to finish... <strong style=\"color:green\">(success).</strong>"
      ],
      "text/plain": [
       "<IPython.core.display.HTML object>"
      ]
     },
     "metadata": {},
     "output_type": "display_data"
    },
    {
     "data": {
      "text/html": [
       "<style>\n",
       "    table.wandb td:nth-child(1) { padding: 0 10px; text-align: left ; width: auto;} td:nth-child(2) {text-align: left ; width: 100%}\n",
       "    .wandb-row { display: flex; flex-direction: row; flex-wrap: wrap; justify-content: flex-start; width: 100% }\n",
       "    .wandb-col { display: flex; flex-direction: column; flex-basis: 100%; flex: 1; padding: 10px; }\n",
       "    </style>\n",
       "<div class=\"wandb-row\"><div class=\"wandb-col\"><h3>Run history:</h3><br/><table class=\"wandb\"><tr><td>accuracy</td><td>▇▇▂█▁▃▃▃▂▁▂▂▁▁▁▁▁▁▁▁▁▁▁▁▁▁▁▁▁▁▁▁▁▁▁▁▁▁▁▁</td></tr><tr><td>loss</td><td>▇▇▂█▁▃▃▃▂▁▂▂▁▁▁▁▁▁▁▁▁▁▁▁▁▁▁▁▁▁▁▁▁▁▁▁▁▁▁▁</td></tr></table><br/></div><div class=\"wandb-col\"><h3>Run summary:</h3><br/><table class=\"wandb\"><tr><td>accuracy</td><td>0.53365</td></tr><tr><td>loss</td><td>0.53365</td></tr></table><br/></div></div>"
      ],
      "text/plain": [
       "<IPython.core.display.HTML object>"
      ]
     },
     "metadata": {},
     "output_type": "display_data"
    },
    {
     "data": {
      "text/html": [
       " View run <strong style=\"color:#cdcd00\">helpful-fire-5</strong> at: <a href='https://wandb.ai/hallymseonyeong/my-test-project/runs/7tbhvb34' target=\"_blank\">https://wandb.ai/hallymseonyeong/my-test-project/runs/7tbhvb34</a><br/>Synced 5 W&B file(s), 0 media file(s), 0 artifact file(s) and 0 other file(s)"
      ],
      "text/plain": [
       "<IPython.core.display.HTML object>"
      ]
     },
     "metadata": {},
     "output_type": "display_data"
    },
    {
     "data": {
      "text/html": [
       "Find logs at: <code>.\\wandb\\run-20230210_171025-7tbhvb34\\logs</code>"
      ],
      "text/plain": [
       "<IPython.core.display.HTML object>"
      ]
     },
     "metadata": {},
     "output_type": "display_data"
    },
    {
     "data": {
      "text/html": [
       "Successfully finished last run (ID:7tbhvb34). Initializing new run:<br/>"
      ],
      "text/plain": [
       "<IPython.core.display.HTML object>"
      ]
     },
     "metadata": {},
     "output_type": "display_data"
    },
    {
     "data": {
      "application/vnd.jupyter.widget-view+json": {
       "model_id": "4748f81a9c494e179328bfcecc7efa13",
       "version_major": 2,
       "version_minor": 0
      },
      "text/plain": [
       "VBox(children=(Label(value='Waiting for wandb.init()...\\r'), FloatProgress(value=0.016666666666666666, max=1.0…"
      ]
     },
     "metadata": {},
     "output_type": "display_data"
    },
    {
     "data": {
      "text/html": [
       "Tracking run with wandb version 0.13.10"
      ],
      "text/plain": [
       "<IPython.core.display.HTML object>"
      ]
     },
     "metadata": {},
     "output_type": "display_data"
    },
    {
     "data": {
      "text/html": [
       "Run data is saved locally in <code>c:\\Users\\asy10\\ML\\DNN\\basic_torch\\wandb\\run-20230210_171243-trfiumv4</code>"
      ],
      "text/plain": [
       "<IPython.core.display.HTML object>"
      ]
     },
     "metadata": {},
     "output_type": "display_data"
    },
    {
     "data": {
      "text/html": [
       "Syncing run <strong><a href='https://wandb.ai/hallymseonyeong/my-test-project/runs/trfiumv4' target=\"_blank\">treasured-silence-6</a></strong> to <a href='https://wandb.ai/hallymseonyeong/my-test-project' target=\"_blank\">Weights & Biases</a> (<a href='https://wandb.me/run' target=\"_blank\">docs</a>)<br/>"
      ],
      "text/plain": [
       "<IPython.core.display.HTML object>"
      ]
     },
     "metadata": {},
     "output_type": "display_data"
    },
    {
     "data": {
      "text/html": [
       " View project at <a href='https://wandb.ai/hallymseonyeong/my-test-project' target=\"_blank\">https://wandb.ai/hallymseonyeong/my-test-project</a>"
      ],
      "text/plain": [
       "<IPython.core.display.HTML object>"
      ]
     },
     "metadata": {},
     "output_type": "display_data"
    },
    {
     "data": {
      "text/html": [
       " View run at <a href='https://wandb.ai/hallymseonyeong/my-test-project/runs/trfiumv4' target=\"_blank\">https://wandb.ai/hallymseonyeong/my-test-project/runs/trfiumv4</a>"
      ],
      "text/plain": [
       "<IPython.core.display.HTML object>"
      ]
     },
     "metadata": {},
     "output_type": "display_data"
    },
    {
     "name": "stdout",
     "output_type": "stream",
     "text": [
      "Epoch 001: | Loss 0.51555 | Acc : 73.000\n",
      "Epoch 002: | Loss 0.51585 | Acc : 73.000\n",
      "Epoch 003: | Loss 0.51078 | Acc : 74.000\n",
      "Epoch 004: | Loss 0.52616 | Acc : 73.000\n",
      "Epoch 005: | Loss 0.52173 | Acc : 72.000\n",
      "Epoch 006: | Loss 0.51797 | Acc : 73.000\n",
      "Epoch 007: | Loss 0.50319 | Acc : 73.000\n",
      "Epoch 008: | Loss 0.48987 | Acc : 74.000\n",
      "Epoch 009: | Loss 0.49790 | Acc : 73.000\n",
      "Epoch 010: | Loss 0.48564 | Acc : 76.000\n",
      "Epoch 011: | Loss 0.49939 | Acc : 74.000\n",
      "Epoch 012: | Loss 0.48688 | Acc : 75.000\n",
      "Epoch 013: | Loss 0.48474 | Acc : 73.000\n",
      "Epoch 014: | Loss 0.48481 | Acc : 76.000\n",
      "Epoch 015: | Loss 0.47053 | Acc : 75.000\n",
      "Epoch 016: | Loss 0.47398 | Acc : 76.000\n",
      "Epoch 017: | Loss 0.45140 | Acc : 76.000\n",
      "Epoch 018: | Loss 0.48330 | Acc : 74.000\n",
      "Epoch 019: | Loss 0.45066 | Acc : 76.000\n",
      "Epoch 020: | Loss 0.46709 | Acc : 77.000\n",
      "Epoch 021: | Loss 0.45908 | Acc : 76.000\n",
      "Epoch 022: | Loss 0.45603 | Acc : 77.000\n",
      "Epoch 023: | Loss 0.45336 | Acc : 78.000\n",
      "Epoch 024: | Loss 0.44691 | Acc : 76.000\n",
      "Epoch 025: | Loss 0.46053 | Acc : 77.000\n",
      "Epoch 026: | Loss 0.45617 | Acc : 78.000\n",
      "Epoch 027: | Loss 0.44398 | Acc : 78.000\n",
      "Epoch 028: | Loss 0.42491 | Acc : 79.000\n",
      "Epoch 029: | Loss 0.42705 | Acc : 79.000\n",
      "Epoch 030: | Loss 0.39891 | Acc : 82.000\n",
      "Epoch 031: | Loss 0.41342 | Acc : 79.000\n",
      "Epoch 032: | Loss 0.40786 | Acc : 81.000\n",
      "Epoch 033: | Loss 0.38693 | Acc : 80.000\n",
      "Epoch 034: | Loss 0.38848 | Acc : 80.000\n",
      "Epoch 035: | Loss 0.37545 | Acc : 82.000\n",
      "Epoch 036: | Loss 0.38159 | Acc : 81.000\n",
      "Epoch 037: | Loss 0.41023 | Acc : 83.000\n",
      "Epoch 038: | Loss 0.36864 | Acc : 85.000\n",
      "Epoch 039: | Loss 0.35904 | Acc : 83.000\n",
      "Epoch 040: | Loss 0.37093 | Acc : 86.000\n",
      "Epoch 041: | Loss 0.33905 | Acc : 85.000\n",
      "Epoch 042: | Loss 0.32073 | Acc : 86.000\n",
      "Epoch 043: | Loss 0.33378 | Acc : 85.000\n",
      "Epoch 044: | Loss 0.33313 | Acc : 85.000\n",
      "Epoch 045: | Loss 0.31275 | Acc : 84.000\n",
      "Epoch 046: | Loss 0.32151 | Acc : 85.000\n",
      "Epoch 047: | Loss 0.29831 | Acc : 86.000\n",
      "Epoch 048: | Loss 0.28122 | Acc : 88.000\n",
      "Epoch 049: | Loss 0.35308 | Acc : 85.000\n",
      "Epoch 050: | Loss 0.29440 | Acc : 87.000\n",
      "Epoch 051: | Loss 0.33892 | Acc : 85.000\n",
      "Epoch 052: | Loss 0.29611 | Acc : 87.000\n",
      "Epoch 053: | Loss 0.29648 | Acc : 88.000\n",
      "Epoch 054: | Loss 0.30355 | Acc : 87.000\n",
      "Epoch 055: | Loss 0.30917 | Acc : 88.000\n",
      "Epoch 056: | Loss 0.26879 | Acc : 89.000\n",
      "Epoch 057: | Loss 0.24893 | Acc : 89.000\n",
      "Epoch 058: | Loss 0.27012 | Acc : 87.000\n",
      "Epoch 059: | Loss 0.24741 | Acc : 91.000\n",
      "Epoch 060: | Loss 0.25327 | Acc : 91.000\n",
      "Epoch 061: | Loss 0.27283 | Acc : 88.000\n",
      "Epoch 062: | Loss 0.23895 | Acc : 90.000\n",
      "Epoch 063: | Loss 0.19466 | Acc : 90.000\n",
      "Epoch 064: | Loss 0.23713 | Acc : 88.000\n",
      "Epoch 065: | Loss 0.26391 | Acc : 89.000\n",
      "Epoch 066: | Loss 0.25455 | Acc : 90.000\n",
      "Epoch 067: | Loss 0.24857 | Acc : 88.000\n",
      "Epoch 068: | Loss 0.20802 | Acc : 92.000\n",
      "Epoch 069: | Loss 0.22596 | Acc : 90.000\n",
      "Epoch 070: | Loss 0.21738 | Acc : 91.000\n",
      "Epoch 071: | Loss 0.22134 | Acc : 89.000\n",
      "Epoch 072: | Loss 0.16819 | Acc : 92.000\n",
      "Epoch 073: | Loss 0.19377 | Acc : 92.000\n",
      "Epoch 074: | Loss 0.17961 | Acc : 92.000\n",
      "Epoch 075: | Loss 0.18829 | Acc : 91.000\n",
      "Epoch 076: | Loss 0.19786 | Acc : 91.000\n",
      "Epoch 077: | Loss 0.16439 | Acc : 93.000\n",
      "Epoch 078: | Loss 0.13593 | Acc : 95.000\n",
      "Epoch 079: | Loss 0.17122 | Acc : 92.000\n",
      "Epoch 080: | Loss 0.18103 | Acc : 93.000\n",
      "Epoch 081: | Loss 0.13691 | Acc : 94.000\n",
      "Epoch 082: | Loss 0.12903 | Acc : 95.000\n",
      "Epoch 083: | Loss 0.14390 | Acc : 94.000\n",
      "Epoch 084: | Loss 0.13860 | Acc : 95.000\n",
      "Epoch 085: | Loss 0.18183 | Acc : 94.000\n",
      "Epoch 086: | Loss 0.11235 | Acc : 96.000\n",
      "Epoch 087: | Loss 0.11563 | Acc : 96.000\n",
      "Epoch 088: | Loss 0.11572 | Acc : 96.000\n",
      "Epoch 089: | Loss 0.12987 | Acc : 96.000\n",
      "Epoch 090: | Loss 0.12516 | Acc : 95.000\n",
      "Epoch 091: | Loss 0.07887 | Acc : 95.000\n",
      "Epoch 092: | Loss 0.07858 | Acc : 98.000\n",
      "Epoch 093: | Loss 0.11590 | Acc : 95.000\n",
      "Epoch 094: | Loss 0.13557 | Acc : 94.000\n",
      "Epoch 095: | Loss 0.10850 | Acc : 96.000\n",
      "Epoch 096: | Loss 0.09921 | Acc : 95.000\n",
      "Epoch 097: | Loss 0.07107 | Acc : 97.000\n",
      "Epoch 098: | Loss 0.07157 | Acc : 97.000\n",
      "Epoch 099: | Loss 0.14482 | Acc : 94.000\n",
      "Epoch 100: | Loss 0.12030 | Acc : 97.000\n"
     ]
    }
   ],
   "source": [
    "wandb.init(project=\"\", config=config)\n",
    "#wandb.config.batch_size = BATCH_SIZE\n",
    "#wandb.config.learning_rate = LEARNING_RATE\n",
    "#config = {\"epochs\": EPOCHS, \"batch_size\":BATCH_SIZE, \"learning_rate\":LEARNING_RATE}\n",
    "\n",
    "for e in range( 1, EPOCHS + 1 ):\n",
    "    epoch_loss = 0\n",
    "    epoch_acc =0 \n",
    "    # data 를 GPU 로 전달해줌 \n",
    "    for X_batch, y_batch in train_dataset:\n",
    "        X_batch, y_batch = X_batch.to(device), y_batch.to(device).type(torch.cuda.FloatTensor)\n",
    "        \n",
    "        optimizer.zero_grad()\n",
    "        y_pred = model(X_batch)\n",
    "        \n",
    "        loss = criterion(y_pred, y_batch.unsqueeze(1))\n",
    "        acc = binary_acc(y_pred, y_batch.unsqueeze(1))\n",
    "        \n",
    "        loss.backward()\n",
    "        optimizer.step()\n",
    "        \n",
    "        epoch_loss += loss.item()\n",
    "        epoch_acc += acc.item()\n",
    "    \n",
    "    \n",
    "    train_loss = epoch_loss/len(train_dataset)\n",
    "    train_acc = epoch_loss/len(train_dataset)\n",
    "    print(f'Epoch {e+0:03}: | Loss {epoch_loss/len(train_dataset):.5f} | Acc : {epoch_acc/len(train_dataset):.3f}')\n",
    "    wandb.log({'accuracy': train_acc, 'loss': train_loss})"
   ]
  },
  {
   "cell_type": "code",
   "execution_count": null,
   "metadata": {},
   "outputs": [],
   "source": []
  }
 ],
 "metadata": {
  "kernelspec": {
   "display_name": "pt_nlp",
   "language": "python",
   "name": "python3"
  },
  "language_info": {
   "codemirror_mode": {
    "name": "ipython",
    "version": 3
   },
   "file_extension": ".py",
   "mimetype": "text/x-python",
   "name": "python",
   "nbconvert_exporter": "python",
   "pygments_lexer": "ipython3",
   "version": "3.9.15"
  },
  "orig_nbformat": 4,
  "vscode": {
   "interpreter": {
    "hash": "dd539e59023d30a608d1557a6688939c9af16bfe57780795fb8945784ea941f5"
   }
  }
 },
 "nbformat": 4,
 "nbformat_minor": 2
}
