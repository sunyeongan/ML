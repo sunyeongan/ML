{
 "cells": [
  {
   "cell_type": "markdown",
   "id": "9aa8773e-dbcd-4fc3-9a30-614575dcdd2a",
   "metadata": {},
   "source": [
    "## nn.Module & nn.Parameter"
   ]
  },
  {
   "cell_type": "code",
   "execution_count": 1,
   "id": "843b3eb5-c549-449f-b9e2-262c5503a98d",
   "metadata": {},
   "outputs": [],
   "source": [
    "import torch\n",
    "from torch import nn\n",
    "from torch import Tensor"
   ]
  },
  {
   "cell_type": "code",
   "execution_count": 2,
   "id": "6236aa38-ec68-4da9-aebc-76459c6bcada",
   "metadata": {},
   "outputs": [],
   "source": [
    "class MyLinear(nn.Module):\n",
    "    def __init__(self, in_features, out_features, bias = True):\n",
    "        super().__init__()\n",
    "        self.in_features = in_features\n",
    "        self.out_features = out_features\n",
    "        \n",
    "        self.weights = nn.Parameter(\n",
    "            torch.randn(in_features, out_features))\n",
    "        \n",
    "        self.bias = nn.Parameter(torch.randn(out_features))\n",
    "    \n",
    "    def forward(self, x: Tensor):\n",
    "        return x @ self.weights + self.bias"
   ]
  },
  {
   "cell_type": "code",
   "execution_count": 3,
   "id": "dc6ed587-084d-4022-a2cc-b742e3dd9aa1",
   "metadata": {},
   "outputs": [],
   "source": [
    "x = torch.randn(5,7)"
   ]
  },
  {
   "cell_type": "code",
   "execution_count": 4,
   "id": "434f0185-9bde-4711-a543-9f832c2a641c",
   "metadata": {},
   "outputs": [],
   "source": [
    "layer = MyLinear(7,12)\n",
    "lay_x = layer(x)"
   ]
  },
  {
   "cell_type": "code",
   "execution_count": 5,
   "id": "521db1eb-9e45-4714-ac5c-b9bbd14bb884",
   "metadata": {},
   "outputs": [
    {
     "data": {
      "text/plain": [
       "torch.Size([5, 12])"
      ]
     },
     "execution_count": 5,
     "metadata": {},
     "output_type": "execute_result"
    }
   ],
   "source": [
    "lay_x.shape"
   ]
  },
  {
   "cell_type": "code",
   "execution_count": 6,
   "id": "fa1acec1-5da0-4a33-8fdb-5c858834b113",
   "metadata": {},
   "outputs": [
    {
     "name": "stdout",
     "output_type": "stream",
     "text": [
      "Parameter containing:\n",
      "tensor([[-0.7861, -0.1752,  1.3804,  0.5055,  0.3558, -0.6672, -1.0471,  2.7450,\n",
      "          0.1769,  0.8387,  0.6298,  2.1714],\n",
      "        [-0.9577, -1.1631, -0.8925, -0.4803,  0.4290,  1.3475, -1.5480, -1.8081,\n",
      "          1.0301, -0.1558,  1.7400, -0.3013],\n",
      "        [ 0.8493,  0.6356,  1.5303,  0.2278,  1.1593, -2.3947,  0.5695, -0.3122,\n",
      "         -0.6714, -1.5633,  0.7259,  0.4380],\n",
      "        [-0.8769, -0.7541, -0.3214, -0.2301,  1.8422,  0.6791,  0.5207, -0.9217,\n",
      "          1.7022,  0.9949,  0.5079,  1.5329],\n",
      "        [-1.8491,  0.6746,  0.9236,  0.7052, -0.1612,  0.8952, -0.7892,  1.0740,\n",
      "         -0.2021, -0.2801, -1.1727,  1.8484],\n",
      "        [-0.3137, -0.2655, -0.8367, -0.3055, -1.0440,  1.0350, -1.3122, -0.3588,\n",
      "          0.0507, -0.2573,  0.6986,  0.2726],\n",
      "        [-0.8597, -0.5373,  0.2684,  1.6972, -0.7549,  1.4028,  1.9817, -0.2331,\n",
      "          1.9319,  0.0717,  1.4331, -0.3107]], requires_grad=True)\n",
      "Parameter containing:\n",
      "tensor([ 1.1491, -1.1274, -1.3333, -1.8661,  0.8449,  0.3266,  1.1478, -1.0866,\n",
      "        -0.5392, -0.5871,  0.4551,  1.4090], requires_grad=True)\n"
     ]
    }
   ],
   "source": [
    "for value in layer.parameters():\n",
    "    print(value)"
   ]
  },
  {
   "cell_type": "code",
   "execution_count": 7,
   "id": "ff676ca8-4d13-4258-83dc-f6e1b257064d",
   "metadata": {},
   "outputs": [],
   "source": [
    "import numpy as np \n",
    "\n",
    "x_values = [i for i in range(11)]\n",
    "x_train = np.array(x_values, dtype=np.float32)\n",
    "x_train = x_train.reshape(-1,1)\n",
    "\n",
    "y_values = [2*i + 1 for i in x_values]\n",
    "y_train = np.array(y_values, dtype=np.float32)\n",
    "y_train = y_train.reshape(-1,1)"
   ]
  },
  {
   "cell_type": "code",
   "execution_count": 8,
   "id": "6ba107c7-9f8f-48c0-bec9-15d0ad2a62f7",
   "metadata": {},
   "outputs": [
    {
     "data": {
      "text/plain": [
       "(11, 1)"
      ]
     },
     "execution_count": 8,
     "metadata": {},
     "output_type": "execute_result"
    }
   ],
   "source": [
    "x_train.shape"
   ]
  },
  {
   "cell_type": "code",
   "execution_count": 9,
   "id": "9082a365-9afc-44d8-9ec5-0704c0226ab5",
   "metadata": {},
   "outputs": [
    {
     "data": {
      "text/plain": [
       "(11, 1)"
      ]
     },
     "execution_count": 9,
     "metadata": {},
     "output_type": "execute_result"
    }
   ],
   "source": [
    "y_train.shape"
   ]
  },
  {
   "cell_type": "code",
   "execution_count": 10,
   "id": "3abe2366-32c5-4d76-b30a-5168285b9208",
   "metadata": {},
   "outputs": [],
   "source": [
    "import torch\n",
    "from torch.autograd import Variable\n",
    "\n",
    "class LinearRegression(torch.nn.Module):\n",
    "    def __init__(self, inputSize, outputSize):\n",
    "        super(LinearRegression, self).__init__()\n",
    "        self.linear = torch.nn.Linear(inputSize, outputSize)\n",
    "        \n",
    "    def forward(self, x):\n",
    "        out = self.linear(x)\n",
    "        return out"
   ]
  },
  {
   "cell_type": "code",
   "execution_count": 11,
   "id": "c8d584f1-a81f-4c4b-842a-e91ef5eb8a84",
   "metadata": {},
   "outputs": [],
   "source": [
    "inputDim = 1\n",
    "outputDim = 1\n",
    "LR = 0.01\n",
    "epochs = 100"
   ]
  },
  {
   "cell_type": "code",
   "execution_count": 12,
   "id": "3df7dc21-b249-4d1b-b74e-00100b1f8f29",
   "metadata": {},
   "outputs": [],
   "source": [
    "model = LinearRegression(inputDim, outputDim)\n",
    "\n",
    "if torch.cuda.is_available():\n",
    "    model.cuda()"
   ]
  },
  {
   "cell_type": "code",
   "execution_count": 13,
   "id": "c64b3ce8-7e69-4775-bee5-4853a7b18b83",
   "metadata": {},
   "outputs": [],
   "source": [
    "criterion = torch.nn.MSELoss()\n",
    "optimizer = torch.optim.SGD(model.parameters(), lr=LR)"
   ]
  },
  {
   "cell_type": "code",
   "execution_count": 14,
   "id": "4a087895-c6ef-449f-b3aa-d9fe8fc4c93e",
   "metadata": {},
   "outputs": [
    {
     "name": "stdout",
     "output_type": "stream",
     "text": [
      "epoch : 0, loss 61.6507682800293 \n",
      "epoch : 1, loss 5.563124179840088 \n",
      "epoch : 2, loss 1.003645658493042 \n",
      "epoch : 3, loss 0.6213286519050598 \n",
      "epoch : 4, loss 0.5829774141311646 \n",
      "epoch : 5, loss 0.5743927359580994 \n",
      "epoch : 6, loss 0.5677797794342041 \n",
      "epoch : 7, loss 0.561373770236969 \n",
      "epoch : 8, loss 0.5551693439483643 \n",
      "epoch : 9, loss 0.5489109754562378 \n",
      "epoch : 10, loss 0.5428904294967651 \n",
      "epoch : 11, loss 0.5367739796638489 \n",
      "epoch : 12, loss 0.5307098627090454 \n",
      "epoch : 13, loss 0.5247999429702759 \n",
      "epoch : 14, loss 0.5188748836517334 \n",
      "epoch : 15, loss 0.5131330490112305 \n",
      "epoch : 16, loss 0.507341206073761 \n",
      "epoch : 17, loss 0.5017589330673218 \n",
      "epoch : 18, loss 0.49609676003456116 \n",
      "epoch : 19, loss 0.490664541721344 \n",
      "epoch : 20, loss 0.48512789607048035 \n",
      "epoch : 21, loss 0.4798392057418823 \n",
      "epoch : 22, loss 0.47442394495010376 \n",
      "epoch : 23, loss 0.4690607488155365 \n",
      "epoch : 24, loss 0.4638340473175049 \n",
      "epoch : 25, loss 0.458590567111969 \n",
      "epoch : 26, loss 0.4534957706928253 \n",
      "epoch : 27, loss 0.4486026465892792 \n",
      "epoch : 28, loss 0.44353511929512024 \n",
      "epoch : 29, loss 0.43852004408836365 \n",
      "epoch : 30, loss 0.43366408348083496 \n",
      "epoch : 31, loss 0.42876002192497253 \n",
      "epoch : 32, loss 0.4240172803401947 \n",
      "epoch : 33, loss 0.41922080516815186 \n",
      "epoch : 34, loss 0.4145854711532593 \n",
      "epoch : 35, loss 0.4098941683769226 \n",
      "epoch : 36, loss 0.40536069869995117 \n",
      "epoch : 37, loss 0.4007730484008789 \n",
      "epoch : 38, loss 0.39633655548095703 \n",
      "epoch : 39, loss 0.39185023307800293 \n",
      "epoch : 40, loss 0.38750532269477844 \n",
      "epoch : 41, loss 0.3833327889442444 \n",
      "epoch : 42, loss 0.3789862096309662 \n",
      "epoch : 43, loss 0.37469545006752014 \n",
      "epoch : 44, loss 0.37051644921302795 \n",
      "epoch : 45, loss 0.3665027320384979 \n",
      "epoch : 46, loss 0.3623448312282562 \n",
      "epoch : 47, loss 0.35824286937713623 \n",
      "epoch : 48, loss 0.3542139530181885 \n",
      "epoch : 49, loss 0.3503446877002716 \n",
      "epoch : 50, loss 0.3463691771030426 \n",
      "epoch : 51, loss 0.34256407618522644 \n",
      "epoch : 52, loss 0.3386782109737396 \n",
      "epoch : 53, loss 0.3349345028400421 \n",
      "epoch : 54, loss 0.3311362862586975 \n",
      "epoch : 55, loss 0.32745108008384705 \n",
      "epoch : 56, loss 0.32391199469566345 \n",
      "epoch : 57, loss 0.3202268183231354 \n",
      "epoch : 58, loss 0.3166015148162842 \n",
      "epoch : 59, loss 0.3130206763744354 \n",
      "epoch : 60, loss 0.30958127975463867 \n",
      "epoch : 61, loss 0.30606546998023987 \n",
      "epoch : 62, loss 0.3026704490184784 \n",
      "epoch : 63, loss 0.29941022396087646 \n",
      "epoch : 64, loss 0.2959962785243988 \n",
      "epoch : 65, loss 0.2927720844745636 \n",
      "epoch : 66, loss 0.28943923115730286 \n",
      "epoch : 67, loss 0.28624966740608215 \n",
      "epoch : 68, loss 0.28299784660339355 \n",
      "epoch : 69, loss 0.2798410952091217 \n",
      "epoch : 70, loss 0.27666938304901123 \n",
      "epoch : 71, loss 0.2735444903373718 \n",
      "epoch : 72, loss 0.2705432176589966 \n",
      "epoch : 73, loss 0.2676607072353363 \n",
      "epoch : 74, loss 0.2645934820175171 \n",
      "epoch : 75, loss 0.2615939676761627 \n",
      "epoch : 76, loss 0.2586366832256317 \n",
      "epoch : 77, loss 0.25579673051834106 \n",
      "epoch : 78, loss 0.25288546085357666 \n",
      "epoch : 79, loss 0.2500631809234619 \n",
      "epoch : 80, loss 0.2473529726266861 \n",
      "epoch : 81, loss 0.24452638626098633 \n",
      "epoch : 82, loss 0.24182827770709991 \n",
      "epoch : 83, loss 0.2390785664319992 \n",
      "epoch : 84, loss 0.23639224469661713 \n",
      "epoch : 85, loss 0.23381242156028748 \n",
      "epoch : 86, loss 0.23114435374736786 \n",
      "epoch : 87, loss 0.22857138514518738 \n",
      "epoch : 88, loss 0.2261001467704773 \n",
      "epoch : 89, loss 0.2235107719898224 \n",
      "epoch : 90, loss 0.22104205191135406 \n",
      "epoch : 91, loss 0.21867117285728455 \n",
      "epoch : 92, loss 0.21615827083587646 \n",
      "epoch : 93, loss 0.2137860208749771 \n",
      "epoch : 94, loss 0.2113494575023651 \n",
      "epoch : 95, loss 0.20897555351257324 \n",
      "epoch : 96, loss 0.20669586956501007 \n",
      "epoch : 97, loss 0.20433409512043 \n",
      "epoch : 98, loss 0.20204943418502808 \n",
      "epoch : 99, loss 0.19985492527484894 \n"
     ]
    }
   ],
   "source": [
    "for epoch in range(epochs):\n",
    "    \n",
    "    if torch.cuda.is_available():\n",
    "        inputs = Variable(torch.from_numpy(x_train).cuda())\n",
    "        labels = Variable(torch.from_numpy(y_train).cuda())\n",
    "    else:\n",
    "        inputs = Variable(torch.from_numpy(x_train))\n",
    "        labels = Variable(torch.from_numpy(y_train))\n",
    "    \n",
    "    \n",
    "    # clear gradient \n",
    "    optimizer.zero_grad()\n",
    "    \n",
    "    # get output from the model, given the inputs\n",
    "    outputs = model(inputs)\n",
    "    \n",
    "    # get loss for the parameter output\n",
    "    loss = criterion(outputs, labels) # 모델의 출력과(outputs), 실제 정답 label(labels)의 MSELoss를 구함 \n",
    "    \n",
    "    \n",
    "    # get gradients w, r, t to parameters\n",
    "    loss.backward()\n",
    "    \n",
    "    \n",
    "    #parameter update\n",
    "    optimizer.step()\n",
    "    \n",
    "    print(f'epoch : {epoch}, loss {loss.item()} ')"
   ]
  },
  {
   "cell_type": "code",
   "execution_count": 15,
   "id": "125ccc60-30bc-415e-ab7b-5d0f0b7e59d0",
   "metadata": {},
   "outputs": [
    {
     "name": "stdout",
     "output_type": "stream",
     "text": [
      "[[ 0.16845481]\n",
      " [ 2.2875955 ]\n",
      " [ 4.406736  ]\n",
      " [ 6.5258765 ]\n",
      " [ 8.645018  ]\n",
      " [10.764158  ]\n",
      " [12.883299  ]\n",
      " [15.0024395 ]\n",
      " [17.12158   ]\n",
      " [19.24072   ]\n",
      " [21.359861  ]]\n"
     ]
    }
   ],
   "source": [
    "with torch.no_grad():\n",
    "    if torch.cuda.is_available():\n",
    "        predicted = model(Variable(torch.from_numpy(x_train).cuda())).cpu().data.numpy()\n",
    "    else:\n",
    "        predicted = model(Variable(torch.from_numpy(x_train))).data.numpy()\n",
    "    print(predicted)"
   ]
  },
  {
   "cell_type": "code",
   "execution_count": 16,
   "id": "4c0074f8-9cfe-4a5d-ac45-1f60e4e647d3",
   "metadata": {},
   "outputs": [
    {
     "data": {
      "text/plain": [
       "array([[ 1.],\n",
       "       [ 3.],\n",
       "       [ 5.],\n",
       "       [ 7.],\n",
       "       [ 9.],\n",
       "       [11.],\n",
       "       [13.],\n",
       "       [15.],\n",
       "       [17.],\n",
       "       [19.],\n",
       "       [21.]], dtype=float32)"
      ]
     },
     "execution_count": 16,
     "metadata": {},
     "output_type": "execute_result"
    }
   ],
   "source": [
    "y_train"
   ]
  },
  {
   "cell_type": "code",
   "execution_count": 17,
   "id": "2b909372-fe60-4d44-aa78-a6b679537708",
   "metadata": {},
   "outputs": [
    {
     "name": "stdout",
     "output_type": "stream",
     "text": [
      "None tensor([[2.1193]], device='cuda:0')\n",
      "None tensor([0.1685], device='cuda:0')\n"
     ]
    }
   ],
   "source": [
    "for p in model.parameters():\n",
    "    if p.requires_grad:\n",
    "        print(p.name, p.data)"
   ]
  },
  {
   "cell_type": "markdown",
   "id": "ad36433b-0b73-47fa-af72-366e8113ffa5",
   "metadata": {},
   "source": [
    "### Backward"
   ]
  },
  {
   "cell_type": "markdown",
   "id": "4d442fa8-d606-4c8f-928c-3e52cee5a636",
   "metadata": {},
   "source": [
    "1. Forward과정을 통해 얻어진 Model의 출력값(outputs)과 정답값(labels)의 차이를 Loss funtion을 통해 계산하여 Loss값을 얻는다.\n",
    "2. Backward는 Loss값을 활용해 미분을 수행하고, back-propagation을 통해 parameter(weight)를 업데이트한다. \n",
    "3. 모델은 back-propagation을 통해 지속적으로 파라미터를 업데이트하게 된다. "
   ]
  },
  {
   "cell_type": "code",
   "execution_count": 18,
   "id": "4e3d52b8-7085-4a39-a5a1-c73672fc98ce",
   "metadata": {},
   "outputs": [],
   "source": [
    "from IPython.display import Image"
   ]
  },
  {
   "cell_type": "code",
   "execution_count": 19,
   "id": "49cdc2e4-47d3-4c3e-a8d7-f0a995cd89cc",
   "metadata": {},
   "outputs": [
    {
     "data": {
      "image/png": "[encoded data removed]",
      "text/plain": [
       "<IPython.core.display.Image object>"
      ]
     },
     "execution_count": 19,
     "metadata": {},
     "output_type": "execute_result"
    }
   ],
   "source": [
    "Image(\"./img/lr.png\")"
   ]
  },
  {
   "cell_type": "code",
   "execution_count": 30,
   "id": "0a4b3f77-6c68-4b1a-aba8-5d02fbe747bc",
   "metadata": {},
   "outputs": [],
   "source": [
    "class LogisticRegression(nn.Module):\n",
    "    def __init__(self, dim, lr=torch.scalar_tensor(0.01)):\n",
    "        super(LogisticRegression, self).__init__()\n",
    "        \n",
    "        # 파라미터 초기화\n",
    "        \n",
    "        self.w = torch.zeros(dim, 1, dtype = torch.float).to(device)\n",
    "        self.b = torch.scalar_tensor(0).to(device)\n",
    "        self.grads = {\"dw\" : torch.zeros(dim,1, dtype=torch.float).to(device),\n",
    "                      \"db\" : torch.scalar_tensor(0).to(device)\n",
    "                     }\n",
    "        self.lr = lr.to(device)\n",
    "        \n",
    "    def forward(self, x):\n",
    "        \n",
    "        z = torch.mm(self.w.T,x)\n",
    "        a = self.sigmoid(z)\n",
    "        \n",
    "        return a\n",
    "    \n",
    "    def sigmoid(self,z):\n",
    "        return 1 / (1 + torch.exp(-z))\n",
    "    def backward(self, x, yhat, y):\n",
    "        \n",
    "        self.grads[\"dw\"] = (1/x.shape[1]) * torch.mm(x,(yhat-y).T)\n",
    "        self.grads[\"db\"] = (1/x.shape[1]) * torch.sum(yhat-y) # x가 1일 때 \n",
    "    \n",
    "    def optimize(self):\n",
    "        \n",
    "        self.w = self.w - self.lr*self.grads[\"dw\"]\n",
    "        self.b = self.b - self.lr*self.grads[\"db\"]"
   ]
  },
  {
   "cell_type": "code",
   "execution_count": 28,
   "id": "d064b855-03dc-48af-b0f5-cad7dabe031d",
   "metadata": {},
   "outputs": [
    {
     "data": {
      "image/png": "[encoded data removed]",
      "text/plain": [
       "<IPython.core.display.Image object>"
      ]
     },
     "execution_count": 28,
     "metadata": {},
     "output_type": "execute_result"
    }
   ],
   "source": [
    "Image(\"./img/lr_fw.png\") # w 에 대해서 미분 "
   ]
  },
  {
   "cell_type": "code",
   "execution_count": 29,
   "id": "e5e370cf-4f13-4794-b625-bea04e80cef3",
   "metadata": {},
   "outputs": [
    {
     "data": {
      "image/png": "[encoded data removed]",
      "text/plain": [
       "<IPython.core.display.Image object>"
      ]
     },
     "execution_count": 29,
     "metadata": {},
     "output_type": "execute_result"
    }
   ],
   "source": [
    "Image(\"./img/lr_bw.png\") # bias 에 대해 미분 "
   ]
  },
  {
   "cell_type": "code",
   "execution_count": null,
   "id": "730f5538-65d0-4a01-900a-fef7d37fb4ea",
   "metadata": {},
   "outputs": [],
   "source": []
  }
 ],
 "metadata": {
  "kernelspec": {
   "display_name": "Python 3 (ipykernel)",
   "language": "python",
   "name": "python3"
  },
  "language_info": {
   "codemirror_mode": {
    "name": "ipython",
    "version": 3
   },
   "file_extension": ".py",
   "mimetype": "text/x-python",
   "name": "python",
   "nbconvert_exporter": "python",
   "pygments_lexer": "ipython3",
   "version": "3.9.15"
  }
 },
 "nbformat": 4,
 "nbformat_minor": 5
}
