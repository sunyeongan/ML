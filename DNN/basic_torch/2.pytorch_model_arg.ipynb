{
 "cells": [
  {
   "cell_type": "markdown",
   "id": "9aa8773e-dbcd-4fc3-9a30-614575dcdd2a",
   "metadata": {},
   "source": [
    "## nn.Module & nn.Parameter"
   ]
  },
  {
   "cell_type": "code",
   "execution_count": 3,
   "id": "843b3eb5-c549-449f-b9e2-262c5503a98d",
   "metadata": {},
   "outputs": [],
   "source": [
    "import torch\n",
    "from torch import nn\n",
    "from torch import Tensor"
   ]
  },
  {
   "cell_type": "code",
   "execution_count": 4,
   "id": "6236aa38-ec68-4da9-aebc-76459c6bcada",
   "metadata": {},
   "outputs": [],
   "source": [
    "class MyLinear(nn.Module):\n",
    "    def __init__(self, in_features, out_features, bias = True):\n",
    "        super().__init__()\n",
    "        self.in_features = in_features\n",
    "        self.out_features = out_features\n",
    "        \n",
    "        self.weights = nn.Parameter(\n",
    "            torch.randn(in_features, out_features))\n",
    "        \n",
    "        self.bias = nn.Parameter(torch.randn(out_features))\n",
    "    \n",
    "    def forward(self, x: Tensor):\n",
    "        return x @ self.weights + self.bias"
   ]
  },
  {
   "cell_type": "code",
   "execution_count": 5,
   "id": "dc6ed587-084d-4022-a2cc-b742e3dd9aa1",
   "metadata": {},
   "outputs": [],
   "source": [
    "x = torch.randn(5,7)"
   ]
  },
  {
   "cell_type": "code",
   "execution_count": 7,
   "id": "434f0185-9bde-4711-a543-9f832c2a641c",
   "metadata": {},
   "outputs": [],
   "source": [
    "layer = MyLinear(7,12)\n",
    "lay_x = layer(x)"
   ]
  },
  {
   "cell_type": "code",
   "execution_count": 8,
   "id": "521db1eb-9e45-4714-ac5c-b9bbd14bb884",
   "metadata": {},
   "outputs": [
    {
     "data": {
      "text/plain": [
       "torch.Size([5, 12])"
      ]
     },
     "execution_count": 8,
     "metadata": {},
     "output_type": "execute_result"
    }
   ],
   "source": [
    "lay_x.shape"
   ]
  },
  {
   "cell_type": "code",
   "execution_count": 9,
   "id": "fa1acec1-5da0-4a33-8fdb-5c858834b113",
   "metadata": {},
   "outputs": [
    {
     "name": "stdout",
     "output_type": "stream",
     "text": [
      "Parameter containing:\n",
      "tensor([[-0.0744,  0.6919,  0.7102, -1.6076, -1.9100,  1.1025, -1.0652,  0.8334,\n",
      "          0.6433, -0.0791,  1.0141,  0.0294],\n",
      "        [-1.3024,  1.0768,  0.3088,  2.5067,  1.4679,  0.2439,  0.8785,  0.5767,\n",
      "         -0.5618,  1.2295,  0.0356,  0.1434],\n",
      "        [-1.3609, -0.3805,  0.8195,  0.1280,  0.7651,  1.5890,  1.0189,  2.1489,\n",
      "         -1.8187,  1.6899,  0.0983, -0.7147],\n",
      "        [-0.8513, -0.9432, -0.7638, -0.4755,  2.2888, -0.5628, -0.4457, -0.6390,\n",
      "         -0.5633,  2.0542, -1.4090,  0.3524],\n",
      "        [-0.5681,  0.9572,  1.1710,  0.4211, -1.2156,  0.7254,  0.9626, -0.2815,\n",
      "          0.9602, -0.9115, -0.4375,  1.2608],\n",
      "        [ 0.4497, -1.0230,  1.2747, -0.9761,  0.1652, -0.9462, -0.1305,  0.1497,\n",
      "          0.9368, -0.8890, -0.6638, -0.3219],\n",
      "        [ 0.0358,  0.4350, -0.3971,  0.9864,  1.2923, -0.6640,  0.4630,  0.0555,\n",
      "          0.0657,  0.1233,  1.3239, -1.2593]], requires_grad=True)\n",
      "Parameter containing:\n",
      "tensor([-0.4969,  1.1470, -0.4999, -0.3196, -1.7114,  2.5212, -0.1028,  0.2813,\n",
      "        -0.4148,  0.1238, -0.7546, -0.7064], requires_grad=True)\n"
     ]
    }
   ],
   "source": [
    "for value in layer.parameters():\n",
    "    print(value)"
   ]
  },
  {
   "cell_type": "code",
   "execution_count": null,
   "id": "ff676ca8-4d13-4258-83dc-f6e1b257064d",
   "metadata": {},
   "outputs": [],
   "source": []
  }
 ],
 "metadata": {
  "kernelspec": {
   "display_name": "Python 3 (ipykernel)",
   "language": "python",
   "name": "python3"
  },
  "language_info": {
   "codemirror_mode": {
    "name": "ipython",
    "version": 3
   },
   "file_extension": ".py",
   "mimetype": "text/x-python",
   "name": "python",
   "nbconvert_exporter": "python",
   "pygments_lexer": "ipython3",
   "version": "3.9.12"
  }
 },
 "nbformat": 4,
 "nbformat_minor": 5
}
