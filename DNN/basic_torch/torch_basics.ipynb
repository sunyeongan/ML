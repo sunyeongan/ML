{
 "cells": [
  {
   "cell_type": "markdown",
   "id": "c65bff59-0270-4609-ad3a-4c4e0d294fdf",
   "metadata": {},
   "source": [
    "## Numpy , Pytorch의 Tensor"
   ]
  },
  {
   "cell_type": "code",
   "execution_count": 1,
   "id": "8a638e2d-d1ca-4d8f-9a87-9ac00f98738d",
   "metadata": {},
   "outputs": [],
   "source": [
    "import numpy as np"
   ]
  },
  {
   "cell_type": "code",
   "execution_count": 14,
   "id": "d546f57d-170e-4eba-b211-66e38f0f83de",
   "metadata": {},
   "outputs": [
    {
     "name": "stdout",
     "output_type": "stream",
     "text": [
      "[[0 1 2 3 4]\n",
      " [5 6 7 8 9]]\n",
      "ndim : 2 , shape : (2, 5)\n"
     ]
    }
   ],
   "source": [
    "n_array = np.arange(10).reshape(2,5)\n",
    "print(n_array)\n",
    "print(f\"ndim : {n_array.ndim} , shape : {n_array.shape}\")"
   ]
  },
  {
   "cell_type": "code",
   "execution_count": 5,
   "id": "93a0d681-8d9f-4ce6-83c6-16c862f1dabb",
   "metadata": {},
   "outputs": [],
   "source": [
    "import torch"
   ]
  },
  {
   "cell_type": "code",
   "execution_count": 15,
   "id": "eec9be6c-f00a-4a20-ad22-d9c2c1d9fe44",
   "metadata": {},
   "outputs": [
    {
     "name": "stdout",
     "output_type": "stream",
     "text": [
      "tensor([[0., 1., 2., 3., 4.],\n",
      "        [5., 6., 7., 8., 9.]])\n",
      "ndim : 2 , shape : torch.Size([2, 5])\n"
     ]
    }
   ],
   "source": [
    "t_array = torch.FloatTensor(n_array)\n",
    "print(t_array)\n",
    "print(f\"ndim : {t_array.ndim} , shape : {t_array.shape}\")"
   ]
  },
  {
   "cell_type": "markdown",
   "id": "6894ec84-e9ef-4e4c-83de-199501c6e789",
   "metadata": {},
   "source": [
    "### Tensor 생성은 list , ndarray로 가능하다"
   ]
  },
  {
   "cell_type": "code",
   "execution_count": 16,
   "id": "1caa1f6d-53f4-4bbb-9bc9-e20d20dc55de",
   "metadata": {},
   "outputs": [
    {
     "data": {
      "text/plain": [
       "tensor([[ 3,  5],\n",
       "        [10,  5]])"
      ]
     },
     "execution_count": 16,
     "metadata": {},
     "output_type": "execute_result"
    }
   ],
   "source": [
    "data = [[3,5], [10,5]]\n",
    "x_data = torch.tensor(data)\n",
    "x_data"
   ]
  },
  {
   "cell_type": "code",
   "execution_count": 17,
   "id": "d9682183-e678-479f-9fe2-7f6e356e7286",
   "metadata": {},
   "outputs": [
    {
     "data": {
      "text/plain": [
       "tensor([[ 3,  5],\n",
       "        [10,  5]], dtype=torch.int32)"
      ]
     },
     "execution_count": 17,
     "metadata": {},
     "output_type": "execute_result"
    }
   ],
   "source": [
    "nd_array_ex = np.array(data)\n",
    "tensor_array = torch.from_numpy(nd_array_ex)\n",
    "tensor_array"
   ]
  },
  {
   "cell_type": "code",
   "execution_count": 18,
   "id": "e7dc788f-df7c-498d-874a-60b44dc7debe",
   "metadata": {},
   "outputs": [],
   "source": [
    "data = [[3, 5, 20], [10, 5, 50], [1, 5, 10]]\n",
    "x_data = torch.tensor(data)"
   ]
  },
  {
   "cell_type": "code",
   "execution_count": 19,
   "id": "4190f8f8-285e-4c9d-917b-85a0f3a1639d",
   "metadata": {},
   "outputs": [
    {
     "data": {
      "text/plain": [
       "tensor([[ 3,  5, 20],\n",
       "        [10,  5, 50],\n",
       "        [ 1,  5, 10]])"
      ]
     },
     "execution_count": 19,
     "metadata": {},
     "output_type": "execute_result"
    }
   ],
   "source": [
    "x_data"
   ]
  },
  {
   "cell_type": "code",
   "execution_count": 32,
   "id": "57e7e908-ff67-412b-af89-08c7ce5f4178",
   "metadata": {},
   "outputs": [
    {
     "data": {
      "text/plain": [
       "tensor([[ 3,  5, 20],\n",
       "        [10,  5, 50],\n",
       "        [ 1,  5, 10]])"
      ]
     },
     "execution_count": 32,
     "metadata": {},
     "output_type": "execute_result"
    }
   ],
   "source": [
    "x_data[:] # 0번째 행 부터 마지막 행 까지 출력"
   ]
  },
  {
   "cell_type": "code",
   "execution_count": 28,
   "id": "ce2e320c-6f8c-4bdc-9bad-3f336116443a",
   "metadata": {},
   "outputs": [
    {
     "data": {
      "text/plain": [
       "tensor([[10,  5, 50],\n",
       "        [ 1,  5, 10]])"
      ]
     },
     "execution_count": 28,
     "metadata": {},
     "output_type": "execute_result"
    }
   ],
   "source": [
    "x_data[1:] # 1 번째 행부터 마지막 행 까지 출력"
   ]
  },
  {
   "cell_type": "code",
   "execution_count": 30,
   "id": "b923ecf7-11be-4ecc-bef8-84fc55a47773",
   "metadata": {},
   "outputs": [
    {
     "data": {
      "text/plain": [
       "tensor([[ 1,  5, 10]])"
      ]
     },
     "execution_count": 30,
     "metadata": {},
     "output_type": "execute_result"
    }
   ],
   "source": [
    "x_data[2:] # 2번째 행부터 마지막 행 까지 출력 "
   ]
  },
  {
   "cell_type": "code",
   "execution_count": 33,
   "id": "94df7a29-2a36-4bdb-a4dd-1667001ba0a8",
   "metadata": {},
   "outputs": [
    {
     "data": {
      "text/plain": [
       "tensor([[ 3,  5, 20]])"
      ]
     },
     "execution_count": 33,
     "metadata": {},
     "output_type": "execute_result"
    }
   ],
   "source": [
    "x_data[:1] # 0 번째 행 만 출력 "
   ]
  },
  {
   "cell_type": "code",
   "execution_count": 34,
   "id": "b7731bc5-2822-43e5-b2be-6ee70a42a90a",
   "metadata": {},
   "outputs": [
    {
     "data": {
      "text/plain": [
       "tensor([[ 3,  5, 20],\n",
       "        [10,  5, 50]])"
      ]
     },
     "execution_count": 34,
     "metadata": {},
     "output_type": "execute_result"
    }
   ],
   "source": [
    "x_data[:2] # 0 ~ 1번째 행 출력 "
   ]
  },
  {
   "cell_type": "code",
   "execution_count": 35,
   "id": "545b1a0d-ae68-40ce-8f48-e6cb015d108c",
   "metadata": {},
   "outputs": [
    {
     "data": {
      "text/plain": [
       "tensor([[ 3,  5, 20],\n",
       "        [10,  5, 50],\n",
       "        [ 1,  5, 10]])"
      ]
     },
     "execution_count": 35,
     "metadata": {},
     "output_type": "execute_result"
    }
   ],
   "source": [
    "x_data[:3] # 0 ~ 2 번째 행 출력 "
   ]
  },
  {
   "cell_type": "code",
   "execution_count": 37,
   "id": "20e66df8-688c-49ee-8c1c-aa94f7812d3b",
   "metadata": {},
   "outputs": [
    {
     "data": {
      "text/plain": [
       "tensor([[ 5, 20],\n",
       "        [ 5, 50],\n",
       "        [ 5, 10]])"
      ]
     },
     "execution_count": 37,
     "metadata": {},
     "output_type": "execute_result"
    }
   ],
   "source": [
    "x_data[:, 1:] # 모든 행에서 1번째 ~ 마지막 열까지 출력 "
   ]
  },
  {
   "cell_type": "code",
   "execution_count": 38,
   "id": "09e341d1-2284-4880-8db2-9d73f3fbf1c1",
   "metadata": {},
   "outputs": [
    {
     "data": {
      "text/plain": [
       "tensor([[ 5, 20],\n",
       "        [ 5, 50]])"
      ]
     },
     "execution_count": 38,
     "metadata": {},
     "output_type": "execute_result"
    }
   ],
   "source": [
    "x_data[:2, 1:] # 0~1번째 행의 1번째 ~ 마지막 열까지 출력 "
   ]
  },
  {
   "cell_type": "code",
   "execution_count": 39,
   "id": "5ea2e64f-0c10-465a-a034-e6e3c7ef5559",
   "metadata": {},
   "outputs": [
    {
     "data": {
      "text/plain": [
       "tensor([ 3,  5, 20, 10,  5, 50,  1,  5, 10])"
      ]
     },
     "execution_count": 39,
     "metadata": {},
     "output_type": "execute_result"
    }
   ],
   "source": [
    "x_data.flatten()"
   ]
  },
  {
   "cell_type": "code",
   "execution_count": 44,
   "id": "86617ada-e7d0-4f1c-912f-614423353918",
   "metadata": {},
   "outputs": [
    {
     "data": {
      "text/plain": [
       "tensor([[1, 1, 1],\n",
       "        [1, 1, 1],\n",
       "        [1, 1, 1]])"
      ]
     },
     "execution_count": 44,
     "metadata": {},
     "output_type": "execute_result"
    }
   ],
   "source": [
    "torch.ones_like(x_data) # 행렬의 형태 확인 "
   ]
  },
  {
   "cell_type": "code",
   "execution_count": 41,
   "id": "58847f9f-b6ec-4403-9427-610db1f399ae",
   "metadata": {},
   "outputs": [
    {
     "data": {
      "text/plain": [
       "array([[ 3,  5, 20],\n",
       "       [10,  5, 50],\n",
       "       [ 1,  5, 10]], dtype=int64)"
      ]
     },
     "execution_count": 41,
     "metadata": {},
     "output_type": "execute_result"
    }
   ],
   "source": [
    "x_data.numpy()"
   ]
  },
  {
   "cell_type": "code",
   "execution_count": 42,
   "id": "6ac1d5ac-7da5-45d6-923b-6e91c6ac7856",
   "metadata": {},
   "outputs": [
    {
     "data": {
      "text/plain": [
       "torch.Size([3, 3])"
      ]
     },
     "execution_count": 42,
     "metadata": {},
     "output_type": "execute_result"
    }
   ],
   "source": [
    "x_data.shape"
   ]
  },
  {
   "cell_type": "code",
   "execution_count": 43,
   "id": "94f03afc-3a6d-420a-b56a-511bf5e5b2b6",
   "metadata": {},
   "outputs": [
    {
     "data": {
      "text/plain": [
       "torch.int64"
      ]
     },
     "execution_count": 43,
     "metadata": {},
     "output_type": "execute_result"
    }
   ],
   "source": [
    "x_data.dtype"
   ]
  },
  {
   "cell_type": "markdown",
   "id": "e6872ae8-c540-4213-8c3e-eaa53f964f2c",
   "metadata": {},
   "source": [
    "### Pytorch의 tensor는 GPU에 올려서 사용가능"
   ]
  },
  {
   "cell_type": "code",
   "execution_count": 45,
   "id": "6bb87b75-f746-4edf-b488-d1c8b2065e81",
   "metadata": {},
   "outputs": [
    {
     "data": {
      "text/plain": [
       "device(type='cpu')"
      ]
     },
     "execution_count": 45,
     "metadata": {},
     "output_type": "execute_result"
    }
   ],
   "source": [
    "x_data.device"
   ]
  },
  {
   "cell_type": "code",
   "execution_count": 46,
   "id": "5fa94109-f1c3-4f4e-95cc-103f806a9788",
   "metadata": {},
   "outputs": [
    {
     "ename": "NameError",
     "evalue": "name 'x_data_cuda' is not defined",
     "output_type": "error",
     "traceback": [
      "\u001b[1;31m---------------------------------------------------------------------------\u001b[0m",
      "\u001b[1;31mNameError\u001b[0m                                 Traceback (most recent call last)",
      "Input \u001b[1;32mIn [46]\u001b[0m, in \u001b[0;36m<cell line: 3>\u001b[1;34m()\u001b[0m\n\u001b[0;32m      1\u001b[0m \u001b[38;5;28;01mif\u001b[39;00m torch\u001b[38;5;241m.\u001b[39mcuda\u001b[38;5;241m.\u001b[39mis_available():\n\u001b[0;32m      2\u001b[0m     x_data_cuda \u001b[38;5;241m=\u001b[39m x_data\u001b[38;5;241m.\u001b[39mto(\u001b[38;5;124m'\u001b[39m\u001b[38;5;124mcuda\u001b[39m\u001b[38;5;124m'\u001b[39m)\n\u001b[1;32m----> 3\u001b[0m \u001b[43mx_data_cuda\u001b[49m\u001b[38;5;241m.\u001b[39mdevice\n",
      "\u001b[1;31mNameError\u001b[0m: name 'x_data_cuda' is not defined"
     ]
    }
   ],
   "source": [
    "if torch.cuda.is_available():\n",
    "    x_data_cuda = x_data.to('cuda')\n",
    "x_data_cuda.device"
   ]
  },
  {
   "cell_type": "code",
   "execution_count": 53,
   "id": "e0b6f9eb-ba76-43f9-83cb-802ba44d9871",
   "metadata": {},
   "outputs": [
    {
     "data": {
      "text/plain": [
       "tensor([[[0.8906, 0.5495],\n",
       "         [0.2107, 0.1233],\n",
       "         [0.3261, 0.4211]],\n",
       "\n",
       "        [[0.7163, 0.1454],\n",
       "         [0.1118, 0.7216],\n",
       "         [0.6625, 0.6806]]])"
      ]
     },
     "execution_count": 53,
     "metadata": {},
     "output_type": "execute_result"
    }
   ],
   "source": [
    "tensor_ex = torch.rand(size=(2,3,2))\n",
    "tensor_ex # element 개수는 12개 (2 x 3 x 2)"
   ]
  },
  {
   "cell_type": "code",
   "execution_count": 48,
   "id": "35174456-f0d6-4010-83f1-499bb32ed14a",
   "metadata": {},
   "outputs": [
    {
     "data": {
      "text/plain": [
       "torch.Size([2, 3, 2])"
      ]
     },
     "execution_count": 48,
     "metadata": {},
     "output_type": "execute_result"
    }
   ],
   "source": [
    "tensor_ex.shape"
   ]
  },
  {
   "cell_type": "code",
   "execution_count": 54,
   "id": "227f4c10-95f8-4bd4-9960-bfcd387212b9",
   "metadata": {},
   "outputs": [
    {
     "data": {
      "text/plain": [
       "tensor([[0.8906, 0.5495, 0.2107, 0.1233, 0.3261, 0.4211],\n",
       "        [0.7163, 0.1454, 0.1118, 0.7216, 0.6625, 0.6806]])"
      ]
     },
     "execution_count": 54,
     "metadata": {},
     "output_type": "execute_result"
    }
   ],
   "source": [
    "tensor_ex.view([-1,6]) # element 개수 12개에 맞추어서 shape을 변경해줌 "
   ]
  },
  {
   "cell_type": "code",
   "execution_count": 51,
   "id": "f490fa09-d57d-4e23-9a96-4306fc3a3da4",
   "metadata": {},
   "outputs": [
    {
     "data": {
      "text/plain": [
       "torch.Size([2, 6])"
      ]
     },
     "execution_count": 51,
     "metadata": {},
     "output_type": "execute_result"
    }
   ],
   "source": [
    "tensor_ex.view([-1,6]).shape"
   ]
  },
  {
   "cell_type": "code",
   "execution_count": 52,
   "id": "c90eedbc-b41c-4c9c-af6d-202ac13b1033",
   "metadata": {},
   "outputs": [
    {
     "data": {
      "text/plain": [
       "tensor([[0.2382, 0.0983, 0.1381, 0.4602, 0.5415, 0.5890],\n",
       "        [0.0847, 0.3694, 0.7105, 0.2445, 0.9136, 0.7489]])"
      ]
     },
     "execution_count": 52,
     "metadata": {},
     "output_type": "execute_result"
    }
   ],
   "source": [
    "tensor_ex.reshape([-1,6])"
   ]
  },
  {
   "cell_type": "code",
   "execution_count": 55,
   "id": "6f6a2e89-6996-4249-80b0-613ecb5e4c3e",
   "metadata": {},
   "outputs": [],
   "source": [
    "a = torch.zeros(3,2)\n",
    "b = a.view(2,3)"
   ]
  },
  {
   "cell_type": "code",
   "execution_count": 56,
   "id": "1f77c6a2-f6dd-410b-b9b5-0cfe8423289f",
   "metadata": {},
   "outputs": [
    {
     "data": {
      "text/plain": [
       "tensor([[1., 1.],\n",
       "        [1., 1.],\n",
       "        [1., 1.]])"
      ]
     },
     "execution_count": 56,
     "metadata": {},
     "output_type": "execute_result"
    }
   ],
   "source": [
    "a.fill_(1)"
   ]
  },
  {
   "cell_type": "code",
   "execution_count": 60,
   "id": "77b3a5a1-5484-43a2-82e1-7a04fc4e5727",
   "metadata": {},
   "outputs": [
    {
     "data": {
      "text/plain": [
       "tensor([[1., 1.],\n",
       "        [1., 1.],\n",
       "        [1., 1.]])"
      ]
     },
     "execution_count": 60,
     "metadata": {},
     "output_type": "execute_result"
    }
   ],
   "source": [
    "b = a.t().reshape(6)\n",
    "a.fill_(1) # 1로 채우기 "
   ]
  },
  {
   "cell_type": "code",
   "execution_count": 62,
   "id": "2d0e60e0-7e6b-4acd-b425-9a7b77e18119",
   "metadata": {},
   "outputs": [
    {
     "data": {
      "text/plain": [
       "tensor([[1., 1., 1.],\n",
       "        [1., 1., 1.]])"
      ]
     },
     "execution_count": 62,
     "metadata": {},
     "output_type": "execute_result"
    }
   ],
   "source": [
    "a.t()"
   ]
  },
  {
   "cell_type": "code",
   "execution_count": 61,
   "id": "c55c4daa-46a8-40a6-bfd0-16ce133b7e8e",
   "metadata": {},
   "outputs": [
    {
     "data": {
      "text/plain": [
       "tensor([1., 1., 1., 1., 1., 1.])"
      ]
     },
     "execution_count": 61,
     "metadata": {},
     "output_type": "execute_result"
    }
   ],
   "source": [
    "b"
   ]
  },
  {
   "cell_type": "markdown",
   "id": "557e5693-4a75-44ff-ae1e-15b1f633599c",
   "metadata": {},
   "source": [
    "### squeeze() -> 차원 축소, unsequeeze() -> 차원 증가 "
   ]
  },
  {
   "cell_type": "code",
   "execution_count": 69,
   "id": "a8c3ca8f-83be-444d-a5ca-7e0a45ee2cb7",
   "metadata": {},
   "outputs": [
    {
     "data": {
      "text/plain": [
       "tensor([[0.4662, 0.0027],\n",
       "        [0.9936, 0.0172]])"
      ]
     },
     "execution_count": 69,
     "metadata": {},
     "output_type": "execute_result"
    }
   ],
   "source": [
    "tensor_ex = torch.rand(size=(2,1,2))\n",
    "tensor_ex.squeeze() "
   ]
  },
  {
   "cell_type": "code",
   "execution_count": 71,
   "id": "e8eeaa2f-aa84-4044-80a1-f2d2ca1fbc50",
   "metadata": {},
   "outputs": [
    {
     "data": {
      "text/plain": [
       "torch.Size([2, 2])"
      ]
     },
     "execution_count": 71,
     "metadata": {},
     "output_type": "execute_result"
    }
   ],
   "source": [
    "tensor_ex.squeeze().shape"
   ]
  },
  {
   "cell_type": "code",
   "execution_count": 75,
   "id": "8c7e4ea6-68fc-43c7-8af1-b4c04d980091",
   "metadata": {},
   "outputs": [
    {
     "data": {
      "text/plain": [
       "torch.Size([1, 2, 2])"
      ]
     },
     "execution_count": 75,
     "metadata": {},
     "output_type": "execute_result"
    }
   ],
   "source": [
    "tensor_ex = torch.rand(size=(2,2))\n",
    "tensor_ex.unsqueeze(0).shape # 0번째 자리에 차원 증가?"
   ]
  },
  {
   "cell_type": "code",
   "execution_count": 76,
   "id": "24fb900a-2434-4d98-aaed-aa9aa8111e44",
   "metadata": {},
   "outputs": [
    {
     "data": {
      "text/plain": [
       "torch.Size([2, 1, 2])"
      ]
     },
     "execution_count": 76,
     "metadata": {},
     "output_type": "execute_result"
    }
   ],
   "source": [
    "tensor_ex.unsqueeze(1).shape # 1번째 자리에 차원 증가?"
   ]
  },
  {
   "cell_type": "code",
   "execution_count": 79,
   "id": "acbb7321-55ab-4c84-99e4-ae2bb15431d6",
   "metadata": {},
   "outputs": [
    {
     "data": {
      "text/plain": [
       "torch.Size([2, 2, 1])"
      ]
     },
     "execution_count": 79,
     "metadata": {},
     "output_type": "execute_result"
    }
   ],
   "source": [
    "tensor_ex.unsqueeze(2).shape # 2번째 자리에 차원 증가?"
   ]
  },
  {
   "cell_type": "markdown",
   "id": "82433e90-51bb-4c12-9fb9-b152058dfc7f",
   "metadata": {},
   "source": [
    "## Tensor operations"
   ]
  },
  {
   "cell_type": "code",
   "execution_count": 80,
   "id": "2585cfe4-cd2d-43b8-a125-6c9867542a16",
   "metadata": {},
   "outputs": [],
   "source": [
    "n1 = np.arange(10).reshape(2,5)\n",
    "n2 = np.arange(10).reshape(5,2)"
   ]
  },
  {
   "cell_type": "code",
   "execution_count": 81,
   "id": "7b86c8c6-4f29-4908-ac9b-28dc128e215c",
   "metadata": {},
   "outputs": [],
   "source": [
    "t1 = torch.FloatTensor(n1)\n",
    "t2 = torch.FloatTensor(n2)\n"
   ]
  },
  {
   "cell_type": "code",
   "execution_count": 86,
   "id": "373a576d-c6f1-407c-94f8-cb2736d30aef",
   "metadata": {},
   "outputs": [
    {
     "data": {
      "text/plain": [
       "array([[0, 1, 2, 3, 4],\n",
       "       [5, 6, 7, 8, 9]])"
      ]
     },
     "execution_count": 86,
     "metadata": {},
     "output_type": "execute_result"
    }
   ],
   "source": [
    "n1 # numpy array"
   ]
  },
  {
   "cell_type": "code",
   "execution_count": 87,
   "id": "339c0eb3-edb3-4474-9bae-181cca01610b",
   "metadata": {},
   "outputs": [
    {
     "data": {
      "text/plain": [
       "tensor([[0., 1., 2., 3., 4.],\n",
       "        [5., 6., 7., 8., 9.]])"
      ]
     },
     "execution_count": 87,
     "metadata": {},
     "output_type": "execute_result"
    }
   ],
   "source": [
    "t1 # torch tensor"
   ]
  },
  {
   "cell_type": "code",
   "execution_count": 88,
   "id": "f73e7bb2-575d-44cd-81fa-a962462527c5",
   "metadata": {},
   "outputs": [
    {
     "data": {
      "text/plain": [
       "tensor([[ 0.,  2.,  4.,  6.,  8.],\n",
       "        [10., 12., 14., 16., 18.]])"
      ]
     },
     "execution_count": 88,
     "metadata": {},
     "output_type": "execute_result"
    }
   ],
   "source": [
    "t1 + t1"
   ]
  },
  {
   "cell_type": "code",
   "execution_count": 91,
   "id": "468fbdb4-8fa3-4e68-9fbd-8b77090a82a1",
   "metadata": {},
   "outputs": [
    {
     "data": {
      "text/plain": [
       "tensor([[0., 0., 0., 0., 0.],\n",
       "        [0., 0., 0., 0., 0.]])"
      ]
     },
     "execution_count": 91,
     "metadata": {},
     "output_type": "execute_result"
    }
   ],
   "source": [
    "t1 - t1"
   ]
  },
  {
   "cell_type": "code",
   "execution_count": 92,
   "id": "677d1ee2-bd8f-4324-9342-5de74ec35b9c",
   "metadata": {},
   "outputs": [
    {
     "data": {
      "text/plain": [
       "tensor([[10., 11., 12., 13., 14.],\n",
       "        [15., 16., 17., 18., 19.]])"
      ]
     },
     "execution_count": 92,
     "metadata": {},
     "output_type": "execute_result"
    }
   ],
   "source": [
    "t1 + 10"
   ]
  },
  {
   "cell_type": "code",
   "execution_count": 94,
   "id": "1db609dc-6827-4049-ad2d-b08d9a877c57",
   "metadata": {},
   "outputs": [
    {
     "ename": "RuntimeError",
     "evalue": "The size of tensor a (5) must match the size of tensor b (2) at non-singleton dimension 1",
     "output_type": "error",
     "traceback": [
      "\u001b[1;31m---------------------------------------------------------------------------\u001b[0m",
      "\u001b[1;31mRuntimeError\u001b[0m                              Traceback (most recent call last)",
      "Input \u001b[1;32mIn [94]\u001b[0m, in \u001b[0;36m<cell line: 1>\u001b[1;34m()\u001b[0m\n\u001b[1;32m----> 1\u001b[0m \u001b[43mt1\u001b[49m\u001b[43m \u001b[49m\u001b[38;5;241;43m+\u001b[39;49m\u001b[43m \u001b[49m\u001b[43mt2\u001b[49m\n",
      "\u001b[1;31mRuntimeError\u001b[0m: The size of tensor a (5) must match the size of tensor b (2) at non-singleton dimension 1"
     ]
    }
   ],
   "source": [
    "t1 + t2 # 더하는 것들의 차원이 맞아야 덧셈 연산 가능 "
   ]
  },
  {
   "cell_type": "markdown",
   "id": "550438c0-4b64-4080-b355-f54bb55ae5f2",
   "metadata": {},
   "source": [
    "### 행렬곱 연산의 함수를 dot이 아닌 mm이용\n",
    "#### dot은 벡터 내적시에 사용, mm은 행렬곱 연산시에 사용"
   ]
  },
  {
   "cell_type": "code",
   "execution_count": 95,
   "id": "85505fad-a9d8-4df7-8f80-2aed0aade0ca",
   "metadata": {},
   "outputs": [],
   "source": [
    "n2 = np.arange(10).reshape(5,2)\n",
    "t2 = torch.FloatTensor(n2)"
   ]
  },
  {
   "cell_type": "code",
   "execution_count": 97,
   "id": "4765bcea-f11f-4df0-888d-7a6db1a16932",
   "metadata": {},
   "outputs": [
    {
     "data": {
      "text/plain": [
       "torch.Size([2, 5])"
      ]
     },
     "execution_count": 97,
     "metadata": {},
     "output_type": "execute_result"
    }
   ],
   "source": [
    "t1.shape"
   ]
  },
  {
   "cell_type": "code",
   "execution_count": 99,
   "id": "c0fe6d88-c33e-43b7-b956-f8e97beaa400",
   "metadata": {},
   "outputs": [
    {
     "data": {
      "text/plain": [
       "torch.Size([5, 2])"
      ]
     },
     "execution_count": 99,
     "metadata": {},
     "output_type": "execute_result"
    }
   ],
   "source": [
    "t2.shape"
   ]
  },
  {
   "cell_type": "code",
   "execution_count": 98,
   "id": "d4527509-590f-49fd-9dd9-83ee740e1533",
   "metadata": {},
   "outputs": [
    {
     "data": {
      "text/plain": [
       "tensor([[ 60.,  70.],\n",
       "        [160., 195.]])"
      ]
     },
     "execution_count": 98,
     "metadata": {},
     "output_type": "execute_result"
    }
   ],
   "source": [
    "t1.mm(t2)"
   ]
  },
  {
   "cell_type": "code",
   "execution_count": 100,
   "id": "7c9fced9-1c61-4b3c-9d27-2b265464ccf6",
   "metadata": {},
   "outputs": [
    {
     "data": {
      "text/plain": [
       "tensor([[ 60.,  70.],\n",
       "        [160., 195.]])"
      ]
     },
     "execution_count": 100,
     "metadata": {},
     "output_type": "execute_result"
    }
   ],
   "source": [
    "t1.matmul(t2)"
   ]
  },
  {
   "cell_type": "markdown",
   "id": "e52295cc-b55e-4db9-b0ec-43eb3ead81f4",
   "metadata": {},
   "source": [
    "### matmul()은 브로드캐스팅 연산 됨 , mm은 x"
   ]
  },
  {
   "cell_type": "code",
   "execution_count": 104,
   "id": "71b6dadd-921a-4f9f-975b-ce12cdcfef20",
   "metadata": {},
   "outputs": [
    {
     "ename": "RuntimeError",
     "evalue": "self must be a matrix",
     "output_type": "error",
     "traceback": [
      "\u001b[1;31m---------------------------------------------------------------------------\u001b[0m",
      "\u001b[1;31mRuntimeError\u001b[0m                              Traceback (most recent call last)",
      "Input \u001b[1;32mIn [104]\u001b[0m, in \u001b[0;36m<cell line: 3>\u001b[1;34m()\u001b[0m\n\u001b[0;32m      1\u001b[0m a \u001b[38;5;241m=\u001b[39m torch\u001b[38;5;241m.\u001b[39mrand(\u001b[38;5;241m5\u001b[39m,\u001b[38;5;241m2\u001b[39m,\u001b[38;5;241m3\u001b[39m)\n\u001b[0;32m      2\u001b[0m b \u001b[38;5;241m=\u001b[39m torch\u001b[38;5;241m.\u001b[39mrand(\u001b[38;5;241m3\u001b[39m)\n\u001b[1;32m----> 3\u001b[0m \u001b[43ma\u001b[49m\u001b[38;5;241;43m.\u001b[39;49m\u001b[43mmm\u001b[49m\u001b[43m(\u001b[49m\u001b[43mb\u001b[49m\u001b[43m)\u001b[49m\n",
      "\u001b[1;31mRuntimeError\u001b[0m: self must be a matrix"
     ]
    }
   ],
   "source": [
    "a = torch.rand(5,2,3)\n",
    "b = torch.rand(3)\n",
    "a.mm(b) # 브로드캐스팅 연산 불가"
   ]
  },
  {
   "cell_type": "code",
   "execution_count": 105,
   "id": "d6167856-d03c-4f9f-b786-22813d44a821",
   "metadata": {},
   "outputs": [
    {
     "data": {
      "text/plain": [
       "tensor([[0.7808, 0.9275],\n",
       "        [0.6041, 0.2667],\n",
       "        [0.9869, 0.5065],\n",
       "        [1.0336, 0.8655],\n",
       "        [0.8043, 0.8018]])"
      ]
     },
     "execution_count": 105,
     "metadata": {},
     "output_type": "execute_result"
    }
   ],
   "source": [
    "a = torch.rand(5,2,3)\n",
    "b = torch.rand(3)\n",
    "a.matmul(b)"
   ]
  },
  {
   "cell_type": "code",
   "execution_count": 117,
   "id": "cce5adc2-5a07-4f56-a0ba-2372de22d2ef",
   "metadata": {},
   "outputs": [
    {
     "data": {
      "text/plain": [
       "torch.Size([5, 2])"
      ]
     },
     "execution_count": 117,
     "metadata": {},
     "output_type": "execute_result"
    }
   ],
   "source": [
    "a.matmul(b).shape"
   ]
  },
  {
   "cell_type": "code",
   "execution_count": 115,
   "id": "f1362e20-e8d8-46df-9d21-1ff19a2b92c9",
   "metadata": {},
   "outputs": [
    {
     "data": {
      "text/plain": [
       "torch.Size([2, 3])"
      ]
     },
     "execution_count": 115,
     "metadata": {},
     "output_type": "execute_result"
    }
   ],
   "source": [
    "a[0].shape"
   ]
  },
  {
   "cell_type": "code",
   "execution_count": 114,
   "id": "15927044-c7ba-4e30-b3c4-552a0956155f",
   "metadata": {},
   "outputs": [
    {
     "data": {
      "text/plain": [
       "torch.Size([3, 1])"
      ]
     },
     "execution_count": 114,
     "metadata": {},
     "output_type": "execute_result"
    }
   ],
   "source": [
    "torch.unsqueeze(b,1).shape"
   ]
  },
  {
   "cell_type": "code",
   "execution_count": 120,
   "id": "9693c0b7-cdfa-4ca7-b6fa-8dca3cf366e0",
   "metadata": {},
   "outputs": [
    {
     "data": {
      "text/plain": [
       "torch.Size([2, 1])"
      ]
     },
     "execution_count": 120,
     "metadata": {},
     "output_type": "execute_result"
    }
   ],
   "source": [
    "# matmul의 브로드 캐스팅 연산 \n",
    "a[0].mm(torch.unsqueeze(b,1))\n",
    "a[1].mm(torch.unsqueeze(b,1))\n",
    "a[2].mm(torch.unsqueeze(b,1))\n",
    "a[3].mm(torch.unsqueeze(b,1))\n",
    "a[4].mm(torch.unsqueeze(b,1)).shape"
   ]
  },
  {
   "cell_type": "code",
   "execution_count": 121,
   "id": "d7f5b185-ed5e-45e6-8d2f-da179ee1ea98",
   "metadata": {},
   "outputs": [],
   "source": [
    "import torch.nn.functional as F"
   ]
  },
  {
   "cell_type": "code",
   "execution_count": 122,
   "id": "3495f75c-ce5b-4489-bd5e-ced3c2a3bf9c",
   "metadata": {},
   "outputs": [
    {
     "data": {
      "text/plain": [
       "tensor([0.3458, 0.4224, 0.2318])"
      ]
     },
     "execution_count": 122,
     "metadata": {},
     "output_type": "execute_result"
    }
   ],
   "source": [
    "tensor = torch.FloatTensor([0.5, 0.7, 0.1])\n",
    "h_tensor = F.softmax(tensor, dim = 0)\n",
    "h_tensor "
   ]
  },
  {
   "cell_type": "code",
   "execution_count": 125,
   "id": "409c6883-d1d6-4802-ba1a-6a91c7b19c3f",
   "metadata": {},
   "outputs": [
    {
     "data": {
      "text/plain": [
       "tensor([[2, 4, 1, 1, 4],\n",
       "        [4, 0, 3, 1, 3],\n",
       "        [4, 4, 2, 1, 4],\n",
       "        [0, 1, 4, 2, 3],\n",
       "        [1, 4, 1, 1, 4],\n",
       "        [0, 2, 0, 0, 0],\n",
       "        [1, 3, 1, 3, 4],\n",
       "        [1, 3, 4, 0, 0],\n",
       "        [2, 4, 1, 2, 1],\n",
       "        [2, 0, 2, 3, 1]])"
      ]
     },
     "execution_count": 125,
     "metadata": {},
     "output_type": "execute_result"
    }
   ],
   "source": [
    "y = torch.randint(5, (10,5))\n",
    "y"
   ]
  },
  {
   "cell_type": "code",
   "execution_count": 129,
   "id": "1cecaae1-ef72-4916-86cc-b6412be62acd",
   "metadata": {},
   "outputs": [
    {
     "data": {
      "text/plain": [
       "tensor([1, 0, 0, 2, 1, 1, 4, 2, 1, 3])"
      ]
     },
     "execution_count": 129,
     "metadata": {},
     "output_type": "execute_result"
    }
   ],
   "source": [
    "y_label = y.argmax(dim=1)\n",
    "y_label # 각 행에서 가장 큰 값을 가진 인덱스를 리턴"
   ]
  },
  {
   "cell_type": "code",
   "execution_count": null,
   "id": "02e79fdb-e58a-4bc8-a9ec-dff5a050b9c4",
   "metadata": {},
   "outputs": [
    {
     "data": {
      "text/plain": [
       "tensor([[0, 1, 0, 0, 0],\n",
       "        [1, 0, 0, 0, 0],\n",
       "        [1, 0, 0, 0, 0],\n",
       "        [0, 0, 1, 0, 0],\n",
       "        [0, 1, 0, 0, 0],\n",
       "        [0, 1, 0, 0, 0],\n",
       "        [0, 0, 0, 0, 1],\n",
       "        [0, 0, 1, 0, 0],\n",
       "        [0, 1, 0, 0, 0],\n",
       "        [0, 0, 0, 1, 0]])"
      ]
     },
     "execution_count": 130,
     "metadata": {},
     "output_type": "execute_result"
    }
   ],
   "source": [
    "torch.nn.functional.one_hot(y_label)"
   ]
  },
  {
   "cell_type": "markdown",
   "id": "d9b38add-bf75-4ad7-8111-0f5f33c7be5a",
   "metadata": {},
   "source": [
    "### 모든 경우의 수를 계산"
   ]
  },
  {
   "cell_type": "code",
   "execution_count": 131,
   "id": "3fa1d26f-fa26-4a9a-8773-4f2d767c7835",
   "metadata": {},
   "outputs": [
    {
     "data": {
      "text/plain": [
       "[(1, 4), (1, 5), (2, 4), (2, 5), (3, 4), (3, 5)]"
      ]
     },
     "execution_count": 131,
     "metadata": {},
     "output_type": "execute_result"
    }
   ],
   "source": [
    "import itertools\n",
    "a = [1,2,3]\n",
    "b = [4,5]\n",
    "list(itertools.product(a,b))"
   ]
  },
  {
   "cell_type": "code",
   "execution_count": 132,
   "id": "e04d6ceb-946a-4881-8625-e43152cad592",
   "metadata": {},
   "outputs": [
    {
     "data": {
      "text/plain": [
       "tensor([[1, 4],\n",
       "        [1, 5],\n",
       "        [2, 4],\n",
       "        [2, 5],\n",
       "        [3, 4],\n",
       "        [3, 5]])"
      ]
     },
     "execution_count": 132,
     "metadata": {},
     "output_type": "execute_result"
    }
   ],
   "source": [
    "tensor_a = torch.tensor(a)\n",
    "tensor_b = torch.tensor(b)\n",
    "torch.cartesian_prod(tensor_a,tensor_b)"
   ]
  },
  {
   "cell_type": "markdown",
   "id": "fe7a41f7-e9d4-4c6b-b72b-5cdb3058162c",
   "metadata": {},
   "source": [
    "### AutoGrad"
   ]
  },
  {
   "cell_type": "code",
   "execution_count": 136,
   "id": "113c06c3-e01a-4fb0-8d30-d4785ed90bc6",
   "metadata": {},
   "outputs": [
    {
     "data": {
      "text/plain": [
       "tensor(40.)"
      ]
     },
     "execution_count": 136,
     "metadata": {},
     "output_type": "execute_result"
    }
   ],
   "source": [
    "w = torch.tensor(2.0, requires_grad = True)\n",
    "y = w ** 2\n",
    "z = 10 * y + 25\n",
    "z.backward()\n",
    "w.grad"
   ]
  },
  {
   "cell_type": "code",
   "execution_count": 141,
   "id": "ab46fc3f-f516-49b5-846e-b96bb732fdf9",
   "metadata": {},
   "outputs": [
    {
     "data": {
      "text/plain": [
       "tensor([36., 81.])"
      ]
     },
     "execution_count": 141,
     "metadata": {},
     "output_type": "execute_result"
    }
   ],
   "source": [
    "a = torch.tensor([2.,3.], requires_grad=True)\n",
    "b = torch.tensor([6.,4.], requires_grad=True)\n",
    "Q = 3*a**3 - b**2\n",
    "external_grad = torch.tensor([1., 1.])\n",
    "Q.backward(gradient=external_grad)\n",
    "\n",
    "\n",
    "a.grad"
   ]
  },
  {
   "cell_type": "code",
   "execution_count": 142,
   "id": "331fc661-757a-40fe-bbcb-af19237a75f8",
   "metadata": {},
   "outputs": [
    {
     "data": {
      "text/plain": [
       "tensor([-12.,  -8.])"
      ]
     },
     "execution_count": 142,
     "metadata": {},
     "output_type": "execute_result"
    }
   ],
   "source": [
    "b.grad"
   ]
  }
 ],
 "metadata": {
  "kernelspec": {
   "display_name": "Python 3 (ipykernel)",
   "language": "python",
   "name": "python3"
  },
  "language_info": {
   "codemirror_mode": {
    "name": "ipython",
    "version": 3
   },
   "file_extension": ".py",
   "mimetype": "text/x-python",
   "name": "python",
   "nbconvert_exporter": "python",
   "pygments_lexer": "ipython3",
   "version": "3.9.12"
  }
 },
 "nbformat": 4,
 "nbformat_minor": 5
}
