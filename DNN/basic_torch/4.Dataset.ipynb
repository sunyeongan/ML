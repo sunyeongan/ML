{
 "cells": [
  {
   "cell_type": "code",
   "execution_count": 6,
   "id": "4887a73a-249a-46df-afba-7e23b444410b",
   "metadata": {},
   "outputs": [],
   "source": [
    "import torch\n",
    "from torch.utils.data import Dataset\n",
    "from torch.utils.data import DataLoader"
   ]
  },
  {
   "cell_type": "code",
   "execution_count": 25,
   "id": "e685216b-d1fc-4084-9c29-b6c745a8f867",
   "metadata": {},
   "outputs": [],
   "source": [
    "\n",
    "class CustomDataset(Dataset):\n",
    "    def __init__(self, text, labels):\n",
    "        # 초기 데이터 생성 방법을 지정\n",
    "        self.labels = labels\n",
    "        self.data = text\n",
    "    def __len__(self):\n",
    "        # 데이터의 전체 길이 return\n",
    "        return len(self.labels)\n",
    "    def __getitem__(self, idx):\n",
    "        # index 값을 주었을 때 반환되는 데이터의 형태 (X, y)\n",
    "        label = self.labels[idx]\n",
    "        text = self.data[idx]\n",
    "        sample = {\"Text\": text, \"Class\": label}\n",
    "        return sample"
   ]
  },
  {
   "cell_type": "code",
   "execution_count": 26,
   "id": "41e8d907-4e9a-4217-8c2e-036f2c23b679",
   "metadata": {},
   "outputs": [],
   "source": [
    "text = ['Happy', 'Amazing', 'Sad', 'Unhappy', 'Glum' ]\n",
    "labels = ['Positive', 'Positive', 'Negative', 'Negative', 'Negative']\n",
    "MyDataset = CustomDataset(text, labels)"
   ]
  },
  {
   "cell_type": "code",
   "execution_count": 27,
   "id": "fe605e6f-a443-4f9f-8b93-77c42563b240",
   "metadata": {},
   "outputs": [],
   "source": [
    "#DataLodaer -> batch를 생성해주는 클래스 \n",
    "MyDataLoader = DataLoader(MyDataset, batch_size=2, shuffle=True)\n"
   ]
  },
  {
   "cell_type": "code",
   "execution_count": 30,
   "id": "958f40c0-caf3-4af3-a1b4-e8a02f9123d7",
   "metadata": {},
   "outputs": [
    {
     "data": {
      "text/plain": [
       "{'Text': ['Sad', 'Happy'], 'Class': ['Negative', 'Positive']}"
      ]
     },
     "execution_count": 30,
     "metadata": {},
     "output_type": "execute_result"
    }
   ],
   "source": [
    "next(iter(MyDataLoader))"
   ]
  },
  {
   "cell_type": "code",
   "execution_count": 31,
   "id": "7412597b-edf2-40f7-81af-7ccdec422d3c",
   "metadata": {},
   "outputs": [
    {
     "name": "stdout",
     "output_type": "stream",
     "text": [
      "{'Text': ['Glum', 'Happy'], 'Class': ['Negative', 'Positive']}\n",
      "{'Text': ['Unhappy', 'Amazing'], 'Class': ['Negative', 'Positive']}\n",
      "{'Text': ['Sad'], 'Class': ['Negative']}\n"
     ]
    }
   ],
   "source": [
    "for dataset in MyDataLoader:\n",
    "    print(dataset)"
   ]
  },
  {
   "cell_type": "code",
   "execution_count": null,
   "id": "1360a5c1-574f-4518-8ead-6fdb428a7d7d",
   "metadata": {},
   "outputs": [],
   "source": []
  }
 ],
 "metadata": {
  "kernelspec": {
   "display_name": "Python 3 (ipykernel)",
   "language": "python",
   "name": "python3"
  },
  "language_info": {
   "codemirror_mode": {
    "name": "ipython",
    "version": 3
   },
   "file_extension": ".py",
   "mimetype": "text/x-python",
   "name": "python",
   "nbconvert_exporter": "python",
   "pygments_lexer": "ipython3",
   "version": "3.9.15"
  }
 },
 "nbformat": 4,
 "nbformat_minor": 5
}
