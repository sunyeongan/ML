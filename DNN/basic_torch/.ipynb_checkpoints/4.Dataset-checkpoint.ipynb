{
 "cells": [
  {
   "cell_type": "code",
   "execution_count": 4,
   "id": "4887a73a-249a-46df-afba-7e23b444410b",
   "metadata": {},
   "outputs": [],
   "source": [
    "import torch\n",
    "from torch.utils.data import Dataset\n",
    "from torch.utils.data import DataLoader"
   ]
  },
  {
   "cell_type": "code",
   "execution_count": 5,
   "id": "e685216b-d1fc-4084-9c29-b6c745a8f867",
   "metadata": {},
   "outputs": [],
   "source": [
    "\n",
    "class CustomDataset(Dataset):\n",
    "    def __init__(self, text, labels):\n",
    "        # 초기 데이터 생성 방법을 지정\n",
    "        self.labels = labels\n",
    "        self.data = text\n",
    "    def __len__(self):\n",
    "        # 데이터의 전체 길이 return\n",
    "        return len(self.labels)\n",
    "    def __getitem__(self, idx):\n",
    "        # index 값을 주었을 때 반환되는 데이터의 형태 (X, y)\n",
    "        label = self.labels[idx]\n",
    "        text = self.data[idx]\n",
    "        sample = {\"Text\": text, \"Class\": label}\n",
    "        return sample"
   ]
  },
  {
   "cell_type": "code",
   "execution_count": 6,
   "id": "41e8d907-4e9a-4217-8c2e-036f2c23b679",
   "metadata": {},
   "outputs": [],
   "source": [
    "text = ['Happy', 'Amazing', 'Sad', 'Unhappy', 'Glum' ]\n",
    "labels = ['Positive', 'Positive', 'Negative', 'Negative', 'Negative']\n",
    "MyDataset = CustomDataset(text, labels)"
   ]
  },
  {
   "cell_type": "code",
   "execution_count": 7,
   "id": "fe605e6f-a443-4f9f-8b93-77c42563b240",
   "metadata": {},
   "outputs": [],
   "source": [
    "#DataLodaer -> batch를 생성해주는 클래스 \n",
    "MyDataLoader = DataLoader(MyDataset, batch_size=2, shuffle=True)\n"
   ]
  },
  {
   "cell_type": "code",
   "execution_count": 8,
   "id": "958f40c0-caf3-4af3-a1b4-e8a02f9123d7",
   "metadata": {},
   "outputs": [
    {
     "data": {
      "text/plain": [
       "{'Text': ['Sad', 'Glum'], 'Class': ['Negative', 'Negative']}"
      ]
     },
     "execution_count": 8,
     "metadata": {},
     "output_type": "execute_result"
    }
   ],
   "source": [
    "next(iter(MyDataLoader))"
   ]
  },
  {
   "cell_type": "code",
   "execution_count": 9,
   "id": "7412597b-edf2-40f7-81af-7ccdec422d3c",
   "metadata": {},
   "outputs": [
    {
     "name": "stdout",
     "output_type": "stream",
     "text": [
      "{'Text': ['Glum', 'Amazing'], 'Class': ['Negative', 'Positive']}\n",
      "{'Text': ['Sad', 'Unhappy'], 'Class': ['Negative', 'Negative']}\n",
      "{'Text': ['Happy'], 'Class': ['Positive']}\n"
     ]
    }
   ],
   "source": [
    "for dataset in MyDataLoader:\n",
    "    print(dataset)"
   ]
  },
  {
   "cell_type": "markdown",
   "id": "040770f3-f24d-4849-a3b3-db5851f7374a",
   "metadata": {},
   "source": [
    "### collate_fn"
   ]
  },
  {
   "cell_type": "code",
   "execution_count": 13,
   "id": "97f64df8-304b-4c05-a30c-9abebf33970f",
   "metadata": {},
   "outputs": [],
   "source": [
    "class ExDataset(Dataset):\n",
    "    def __init__(self, num):\n",
    "        self.num = num\n",
    "    \n",
    "    def __len__(self):\n",
    "        return self.num\n",
    "    \n",
    "    def __getitem__(self,idx):\n",
    "        return {\"X\":torch.tensor([idx]*(idx+1), dtype=torch.float32),\n",
    "                \"Y\":torch.tensor(idx, dtype=torch.float32)}"
   ]
  },
  {
   "cell_type": "code",
   "execution_count": 18,
   "id": "06c3c0b9-97eb-43a7-bb09-48a46b161e92",
   "metadata": {},
   "outputs": [],
   "source": [
    "dataset_ex = ExDataset(num = 10)\n",
    "dataloader_ex = torch.utils.data.DataLoader(dataset_ex, batch_size=1)\n"
   ]
  },
  {
   "cell_type": "code",
   "execution_count": 21,
   "id": "c4faf968-3019-485a-931c-ae6b503a7b34",
   "metadata": {},
   "outputs": [
    {
     "name": "stdout",
     "output_type": "stream",
     "text": [
      "X : tensor([[0.]])\n",
      "X : tensor([[1., 1.]])\n",
      "X : tensor([[2., 2., 2.]])\n",
      "X : tensor([[3., 3., 3., 3.]])\n",
      "X : tensor([[4., 4., 4., 4., 4.]])\n",
      "X : tensor([[5., 5., 5., 5., 5., 5.]])\n",
      "X : tensor([[6., 6., 6., 6., 6., 6., 6.]])\n",
      "X : tensor([[7., 7., 7., 7., 7., 7., 7., 7.]])\n",
      "X : tensor([[8., 8., 8., 8., 8., 8., 8., 8., 8.]])\n",
      "X : tensor([[9., 9., 9., 9., 9., 9., 9., 9., 9., 9.]])\n"
     ]
    }
   ],
   "source": [
    "for d in dataloader_ex:\n",
    "    print(f\"X : {d['X']}\")"
   ]
  },
  {
   "cell_type": "markdown",
   "id": "d34a1bbd-f21c-4a76-8c7c-4e5634676f9b",
   "metadata": {},
   "source": [
    "batch size를 2로 변경하면 에러 발생 -> 같은 배치 안의 input x의 길이가 다르기 때문 \n",
    "\n",
    "input의 길이를 동일하게 맞추어 줘야함. 같은 배치 안에 길이가 가장 긴 input의 맞춰 다른 input에 임의로 0값을 패딩"
   ]
  },
  {
   "cell_type": "code",
   "execution_count": 44,
   "id": "8c550e00-d534-4ac8-9b14-302cd6929a76",
   "metadata": {},
   "outputs": [],
   "source": [
    "def my_collate_fn(samples):\n",
    "    collate_X = []\n",
    "    collate_y = []\n",
    "    \n",
    "    max_len = max([len(sample['X']) for sample in samples])\n",
    "    \n",
    "    for sample in samples:\n",
    "        \n",
    "        diff = max_len - len(sample['X'])\n",
    "        if diff > 0: # 같은 배치 안에서 가장 긴 input의 길이에 맞춰서 0으로 패딩 \n",
    "            print(f\"배치에서 가장 긴 길이 : {max_len}\")\n",
    "            zero_pad = torch.zeros(size=(diff,))\n",
    "            collate_X.append(torch.cat([sample['X'], zero_pad],dim=0))\n",
    "        else:\n",
    "            collate_X.append(sample['X'])\n",
    "\n",
    "    collate_y = [sample['Y'] for sample in samples]\n",
    "    return {'X':torch.stack(collate_X),\n",
    "            'Y':torch.stack(collate_y)}"
   ]
  },
  {
   "cell_type": "code",
   "execution_count": 45,
   "id": "9439b3df-f5e0-4c8f-970d-0a2b0b162724",
   "metadata": {},
   "outputs": [],
   "source": [
    "dataloader_ex2 = DataLoader(dataset_ex, batch_size=2, collate_fn = my_collate_fn)\n"
   ]
  },
  {
   "cell_type": "code",
   "execution_count": 49,
   "id": "864766e2-1ad1-4dff-8ee2-7447a2085dff",
   "metadata": {},
   "outputs": [
    {
     "name": "stdout",
     "output_type": "stream",
     "text": [
      "배치에서 가장 긴 길이 : 2\n",
      "X : tensor([[0., 0.],\n",
      "        [1., 1.]])\n",
      "Y : tensor([0., 1.])\n",
      "배치에서 가장 긴 길이 : 4\n",
      "X : tensor([[2., 2., 2., 0.],\n",
      "        [3., 3., 3., 3.]])\n",
      "Y : tensor([2., 3.])\n",
      "배치에서 가장 긴 길이 : 6\n",
      "X : tensor([[4., 4., 4., 4., 4., 0.],\n",
      "        [5., 5., 5., 5., 5., 5.]])\n",
      "Y : tensor([4., 5.])\n",
      "배치에서 가장 긴 길이 : 8\n",
      "X : tensor([[6., 6., 6., 6., 6., 6., 6., 0.],\n",
      "        [7., 7., 7., 7., 7., 7., 7., 7.]])\n",
      "Y : tensor([6., 7.])\n",
      "배치에서 가장 긴 길이 : 10\n",
      "X : tensor([[8., 8., 8., 8., 8., 8., 8., 8., 8., 0.],\n",
      "        [9., 9., 9., 9., 9., 9., 9., 9., 9., 9.]])\n",
      "Y : tensor([8., 9.])\n"
     ]
    }
   ],
   "source": [
    "for d in dataloader_ex2:\n",
    "    print(f\"X : {d['X']}\")\n",
    "    print(f\"Y : {d['Y']}\")"
   ]
  },
  {
   "cell_type": "code",
   "execution_count": null,
   "id": "3e5e73fe-e392-4364-b20b-6111909082a2",
   "metadata": {},
   "outputs": [],
   "source": []
  }
 ],
 "metadata": {
  "kernelspec": {
   "display_name": "Python 3 (ipykernel)",
   "language": "python",
   "name": "python3"
  },
  "language_info": {
   "codemirror_mode": {
    "name": "ipython",
    "version": 3
   },
   "file_extension": ".py",
   "mimetype": "text/x-python",
   "name": "python",
   "nbconvert_exporter": "python",
   "pygments_lexer": "ipython3",
   "version": "3.9.15"
  }
 },
 "nbformat": 4,
 "nbformat_minor": 5
}
